{
 "cells": [
  {
   "cell_type": "markdown",
   "metadata": {},
   "source": [
    "## Combining of  SAKT with Riiid LGBM bagging2 + Pystan"
   ]
  },
  {
   "cell_type": "code",
   "execution_count": null,
   "metadata": {
    "_cell_guid": "b1076dfc-b9ad-4769-8c92-a6c4dae69d19",
    "_uuid": "8f2839f25d086af736a60e9eeb907d3b93b6e0e5",
    "execution": {
     "iopub.execute_input": "2020-12-14T22:08:37.646392Z",
     "iopub.status.busy": "2020-12-14T22:08:37.645613Z",
     "iopub.status.idle": "2020-12-14T22:09:09.199686Z",
     "shell.execute_reply": "2020-12-14T22:09:09.198955Z"
    },
    "papermill": {
     "duration": 31.618163,
     "end_time": "2020-12-14T22:09:09.199842",
     "exception": false,
     "start_time": "2020-12-14T22:08:37.581679",
     "status": "completed"
    },
    "tags": []
   },
   "outputs": [],
   "source": [
    "!pip install ../input/python-datatable/datatable-0.11.0-cp37-cp37m-manylinux2010_x86_64.whl > /dev/null 2>&1"
   ]
  },
  {
   "cell_type": "code",
   "execution_count": null,
   "metadata": {},
   "outputs": [],
   "source": [
    "# !pip install pystan"
   ]
  },
  {
   "cell_type": "code",
   "execution_count": null,
   "metadata": {
    "_cell_guid": "79c7e3d0-c299-4dcb-8224-4455121ee9b0",
    "_uuid": "d629ff2d2480ee46fbb7e2d37f6b5fab8052498a",
    "execution": {
     "iopub.execute_input": "2020-12-14T22:09:09.321484Z",
     "iopub.status.busy": "2020-12-14T22:09:09.320403Z",
     "iopub.status.idle": "2020-12-14T22:09:10.620464Z",
     "shell.execute_reply": "2020-12-14T22:09:10.619657Z"
    },
    "papermill": {
     "duration": 1.363915,
     "end_time": "2020-12-14T22:09:10.620601",
     "exception": false,
     "start_time": "2020-12-14T22:09:09.256686",
     "status": "completed"
    },
    "tags": []
   },
   "outputs": [],
   "source": [
    "import numpy as np\n",
    "import pandas as pd\n",
    "import psutil\n",
    "\n",
    "import pystan\n",
    "\n",
    "from collections import defaultdict\n",
    "import datatable as dt\n",
    "import lightgbm as lgb\n",
    "from matplotlib import pyplot as plt\n",
    "import riiideducation\n",
    "import random\n",
    "from sklearn.metrics import roc_auc_score\n",
    "import gc\n",
    "from sklearn.cluster import KMeans\n",
    "\n",
    "_ = np.seterr(divide='ignore', invalid='ignore')"
   ]
  },
  {
   "cell_type": "markdown",
   "metadata": {
    "papermill": {
     "duration": 0.055281,
     "end_time": "2020-12-14T22:09:10.732909",
     "exception": false,
     "start_time": "2020-12-14T22:09:10.677628",
     "status": "completed"
    },
    "tags": []
   },
   "source": [
    "# Preprocess"
   ]
  },
  {
   "cell_type": "code",
   "execution_count": null,
   "metadata": {
    "execution": {
     "iopub.execute_input": "2020-12-14T22:09:10.851611Z",
     "iopub.status.busy": "2020-12-14T22:09:10.850866Z",
     "iopub.status.idle": "2020-12-14T22:09:10.854658Z",
     "shell.execute_reply": "2020-12-14T22:09:10.853891Z"
    },
    "papermill": {
     "duration": 0.065985,
     "end_time": "2020-12-14T22:09:10.854782",
     "exception": false,
     "start_time": "2020-12-14T22:09:10.788797",
     "status": "completed"
    },
    "tags": []
   },
   "outputs": [],
   "source": [
    "data_types_dict = {\n",
    "    'timestamp': 'int64',\n",
    "    'user_id': 'int32', \n",
    "    'content_id': 'int16', \n",
    "    'content_type_id':'int8', \n",
    "    'task_container_id': 'int16',\n",
    "    #'user_answer': 'int8',\n",
    "    'answered_correctly': 'int8', \n",
    "    'prior_question_elapsed_time': 'float32', \n",
    "    'prior_question_had_explanation': 'bool'\n",
    "}\n",
    "target = 'answered_correctly'"
   ]
  },
  {
   "cell_type": "code",
   "execution_count": null,
   "metadata": {
    "execution": {
     "iopub.execute_input": "2020-12-14T22:09:10.974084Z",
     "iopub.status.busy": "2020-12-14T22:09:10.97328Z",
     "iopub.status.idle": "2020-12-14T22:11:06.593168Z",
     "shell.execute_reply": "2020-12-14T22:11:06.592263Z"
    },
    "papermill": {
     "duration": 115.682341,
     "end_time": "2020-12-14T22:11:06.593434",
     "exception": false,
     "start_time": "2020-12-14T22:09:10.911093",
     "status": "completed"
    },
    "tags": []
   },
   "outputs": [],
   "source": [
    "train_df = dt.fread('../input/riiid-test-answer-prediction/train.csv', columns=set(data_types_dict.keys())).to_pandas()"
   ]
  },
  {
   "cell_type": "code",
   "execution_count": null,
   "metadata": {
    "execution": {
     "iopub.execute_input": "2020-12-14T22:11:06.71833Z",
     "iopub.status.busy": "2020-12-14T22:11:06.717358Z",
     "iopub.status.idle": "2020-12-14T22:11:06.722014Z",
     "shell.execute_reply": "2020-12-14T22:11:06.721415Z"
    },
    "papermill": {
     "duration": 0.067953,
     "end_time": "2020-12-14T22:11:06.722134",
     "exception": false,
     "start_time": "2020-12-14T22:11:06.654181",
     "status": "completed"
    },
    "tags": []
   },
   "outputs": [],
   "source": [
    "print(psutil.virtual_memory().percent)"
   ]
  },
  {
   "cell_type": "code",
   "execution_count": null,
   "metadata": {
    "execution": {
     "iopub.execute_input": "2020-12-14T22:11:06.851929Z",
     "iopub.status.busy": "2020-12-14T22:11:06.851057Z",
     "iopub.status.idle": "2020-12-14T22:11:06.867668Z",
     "shell.execute_reply": "2020-12-14T22:11:06.866962Z"
    },
    "papermill": {
     "duration": 0.088265,
     "end_time": "2020-12-14T22:11:06.86783",
     "exception": false,
     "start_time": "2020-12-14T22:11:06.779565",
     "status": "completed"
    },
    "tags": []
   },
   "outputs": [],
   "source": [
    "#reading in lecture df\n",
    "lectures_df = pd.read_csv('/kaggle/input/riiid-test-answer-prediction/lectures.csv')"
   ]
  },
  {
   "cell_type": "code",
   "execution_count": null,
   "metadata": {
    "execution": {
     "iopub.execute_input": "2020-12-14T22:11:07.023177Z",
     "iopub.status.busy": "2020-12-14T22:11:07.012119Z",
     "iopub.status.idle": "2020-12-14T22:11:07.030116Z",
     "shell.execute_reply": "2020-12-14T22:11:07.029301Z"
    },
    "papermill": {
     "duration": 0.105008,
     "end_time": "2020-12-14T22:11:07.030257",
     "exception": false,
     "start_time": "2020-12-14T22:11:06.925249",
     "status": "completed"
    },
    "tags": []
   },
   "outputs": [],
   "source": [
    "lectures_df['type_of'] = lectures_df['type_of'].replace('solving question', 'solving_question')\n",
    "\n",
    "lectures_df = pd.get_dummies(lectures_df, columns=['part', 'type_of'])\n",
    "\n",
    "part_lectures_columns = [column for column in lectures_df.columns if column.startswith('part')]\n",
    "\n",
    "types_of_lectures_columns = [column for column in lectures_df.columns if column.startswith('type_of_')]"
   ]
  },
  {
   "cell_type": "code",
   "execution_count": null,
   "metadata": {
    "execution": {
     "iopub.execute_input": "2020-12-14T22:11:07.155679Z",
     "iopub.status.busy": "2020-12-14T22:11:07.154813Z",
     "iopub.status.idle": "2020-12-14T22:11:08.491628Z",
     "shell.execute_reply": "2020-12-14T22:11:08.490796Z"
    },
    "papermill": {
     "duration": 1.402796,
     "end_time": "2020-12-14T22:11:08.491762",
     "exception": false,
     "start_time": "2020-12-14T22:11:07.088966",
     "status": "completed"
    },
    "tags": []
   },
   "outputs": [],
   "source": [
    "train_lectures = train_df[train_df.content_type_id == True].merge(lectures_df, left_on='content_id', right_on='lecture_id', how='left')"
   ]
  },
  {
   "cell_type": "code",
   "execution_count": null,
   "metadata": {
    "execution": {
     "iopub.execute_input": "2020-12-14T22:11:08.613923Z",
     "iopub.status.busy": "2020-12-14T22:11:08.613077Z",
     "iopub.status.idle": "2020-12-14T22:11:09.335016Z",
     "shell.execute_reply": "2020-12-14T22:11:09.335605Z"
    },
    "papermill": {
     "duration": 0.786932,
     "end_time": "2020-12-14T22:11:09.335809",
     "exception": false,
     "start_time": "2020-12-14T22:11:08.548877",
     "status": "completed"
    },
    "tags": []
   },
   "outputs": [],
   "source": [
    "user_lecture_stats_part = train_lectures.groupby('user_id',as_index = False)[part_lectures_columns + types_of_lectures_columns].sum()"
   ]
  },
  {
   "cell_type": "code",
   "execution_count": null,
   "metadata": {
    "execution": {
     "iopub.execute_input": "2020-12-14T22:11:09.461759Z",
     "iopub.status.busy": "2020-12-14T22:11:09.460549Z",
     "iopub.status.idle": "2020-12-14T22:11:09.469931Z",
     "shell.execute_reply": "2020-12-14T22:11:09.469127Z"
    },
    "papermill": {
     "duration": 0.076567,
     "end_time": "2020-12-14T22:11:09.47006",
     "exception": false,
     "start_time": "2020-12-14T22:11:09.393493",
     "status": "completed"
    },
    "tags": []
   },
   "outputs": [],
   "source": [
    "lecturedata_types_dict = {   \n",
    "    'user_id': 'int32', \n",
    "    'part_1': 'int8',\n",
    "    'part_2': 'int8',\n",
    "    'part_3': 'int8',\n",
    "    'part_4': 'int8',\n",
    "    'part_5': 'int8',\n",
    "    'part_6': 'int8',\n",
    "    'part_7': 'int8',\n",
    "    'type_of_concept': 'int8',\n",
    "    'type_of_intention': 'int8',\n",
    "    'type_of_solving_question': 'int8',\n",
    "    'type_of_starter': 'int8'\n",
    "}\n",
    "user_lecture_stats_part = user_lecture_stats_part.astype(lecturedata_types_dict)"
   ]
  },
  {
   "cell_type": "code",
   "execution_count": null,
   "metadata": {},
   "outputs": [],
   "source": [
    "user_lecture_stats_part.head()"
   ]
  },
  {
   "cell_type": "code",
   "execution_count": null,
   "metadata": {
    "execution": {
     "iopub.execute_input": "2020-12-14T22:11:09.59656Z",
     "iopub.status.busy": "2020-12-14T22:11:09.594568Z",
     "iopub.status.idle": "2020-12-14T22:11:09.606419Z",
     "shell.execute_reply": "2020-12-14T22:11:09.605517Z"
    },
    "papermill": {
     "duration": 0.077949,
     "end_time": "2020-12-14T22:11:09.606571",
     "exception": false,
     "start_time": "2020-12-14T22:11:09.528622",
     "status": "completed"
    },
    "tags": []
   },
   "outputs": [],
   "source": [
    "for column in user_lecture_stats_part.columns:\n",
    "    #bool_column = column + '_boolean'\n",
    "    if(column !='user_id'):\n",
    "        user_lecture_stats_part[column] = (user_lecture_stats_part[column] > 0).astype('int8')"
   ]
  },
  {
   "cell_type": "markdown",
   "metadata": {},
   "source": [
    "****consider whether use binary features or continuous ones for these vars. Continuous is preferred for now. ****"
   ]
  },
  {
   "cell_type": "code",
   "execution_count": null,
   "metadata": {},
   "outputs": [],
   "source": [
    "user_lecture_stats_part.head()"
   ]
  },
  {
   "cell_type": "code",
   "execution_count": null,
   "metadata": {
    "execution": {
     "iopub.execute_input": "2020-12-14T22:11:09.729961Z",
     "iopub.status.busy": "2020-12-14T22:11:09.729203Z",
     "iopub.status.idle": "2020-12-14T22:11:09.75963Z",
     "shell.execute_reply": "2020-12-14T22:11:09.75897Z"
    },
    "papermill": {
     "duration": 0.094854,
     "end_time": "2020-12-14T22:11:09.759798",
     "exception": false,
     "start_time": "2020-12-14T22:11:09.664944",
     "status": "completed"
    },
    "tags": []
   },
   "outputs": [],
   "source": [
    "train_lectures[train_lectures.user_id==5382]"
   ]
  },
  {
   "cell_type": "code",
   "execution_count": null,
   "metadata": {
    "execution": {
     "iopub.execute_input": "2020-12-14T22:11:09.891888Z",
     "iopub.status.busy": "2020-12-14T22:11:09.883041Z",
     "iopub.status.idle": "2020-12-14T22:11:09.896308Z",
     "shell.execute_reply": "2020-12-14T22:11:09.896909Z"
    },
    "papermill": {
     "duration": 0.078545,
     "end_time": "2020-12-14T22:11:09.897063",
     "exception": false,
     "start_time": "2020-12-14T22:11:09.818518",
     "status": "completed"
    },
    "tags": []
   },
   "outputs": [],
   "source": [
    "user_lecture_stats_part[user_lecture_stats_part.user_id==5382]"
   ]
  },
  {
   "cell_type": "code",
   "execution_count": null,
   "metadata": {
    "execution": {
     "iopub.execute_input": "2020-12-14T22:11:10.031893Z",
     "iopub.status.busy": "2020-12-14T22:11:10.025679Z",
     "iopub.status.idle": "2020-12-14T22:11:10.036765Z",
     "shell.execute_reply": "2020-12-14T22:11:10.035996Z"
    },
    "papermill": {
     "duration": 0.080295,
     "end_time": "2020-12-14T22:11:10.036894",
     "exception": false,
     "start_time": "2020-12-14T22:11:09.956599",
     "status": "completed"
    },
    "tags": []
   },
   "outputs": [],
   "source": [
    "user_lecture_stats_part.tail()"
   ]
  },
  {
   "cell_type": "code",
   "execution_count": null,
   "metadata": {
    "execution": {
     "iopub.execute_input": "2020-12-14T22:11:10.167282Z",
     "iopub.status.busy": "2020-12-14T22:11:10.166227Z",
     "iopub.status.idle": "2020-12-14T22:11:10.170954Z",
     "shell.execute_reply": "2020-12-14T22:11:10.170173Z"
    },
    "papermill": {
     "duration": 0.073115,
     "end_time": "2020-12-14T22:11:10.171077",
     "exception": false,
     "start_time": "2020-12-14T22:11:10.097962",
     "status": "completed"
    },
    "tags": []
   },
   "outputs": [],
   "source": [
    "user_lecture_stats_part.dtypes"
   ]
  },
  {
   "cell_type": "code",
   "execution_count": null,
   "metadata": {
    "execution": {
     "iopub.execute_input": "2020-12-14T22:11:10.306495Z",
     "iopub.status.busy": "2020-12-14T22:11:10.305443Z",
     "iopub.status.idle": "2020-12-14T22:11:10.308081Z",
     "shell.execute_reply": "2020-12-14T22:11:10.308631Z"
    },
    "papermill": {
     "duration": 0.076116,
     "end_time": "2020-12-14T22:11:10.308804",
     "exception": false,
     "start_time": "2020-12-14T22:11:10.232688",
     "status": "completed"
    },
    "tags": []
   },
   "outputs": [],
   "source": [
    "#clearing memory\n",
    "del(train_lectures)"
   ]
  },
  {
   "cell_type": "code",
   "execution_count": null,
   "metadata": {
    "execution": {
     "iopub.execute_input": "2020-12-14T22:11:10.438589Z",
     "iopub.status.busy": "2020-12-14T22:11:10.437528Z",
     "iopub.status.idle": "2020-12-14T22:11:10.442577Z",
     "shell.execute_reply": "2020-12-14T22:11:10.441904Z"
    },
    "papermill": {
     "duration": 0.072449,
     "end_time": "2020-12-14T22:11:10.442709",
     "exception": false,
     "start_time": "2020-12-14T22:11:10.37026",
     "status": "completed"
    },
    "tags": []
   },
   "outputs": [],
   "source": [
    "print(psutil.virtual_memory().percent)"
   ]
  },
  {
   "cell_type": "code",
   "execution_count": null,
   "metadata": {
    "execution": {
     "iopub.execute_input": "2020-12-14T22:11:10.576823Z",
     "iopub.status.busy": "2020-12-14T22:11:10.57597Z",
     "iopub.status.idle": "2020-12-14T22:11:31.776582Z",
     "shell.execute_reply": "2020-12-14T22:11:31.775792Z"
    },
    "papermill": {
     "duration": 21.271033,
     "end_time": "2020-12-14T22:11:31.776714",
     "exception": false,
     "start_time": "2020-12-14T22:11:10.505681",
     "status": "completed"
    },
    "tags": []
   },
   "outputs": [],
   "source": [
    "cum = train_df.groupby('user_id')['content_type_id'].agg(['cumsum', 'cumcount'])\n",
    "train_df['user_lecture_cumsum'] = cum['cumsum'] ## number of lectures watched overall per user 累计的（到目前为止的）\n",
    "train_df['user_lecture_lv'] = cum['cumsum'] / cum['cumcount'] ##percentage of watched lecture relative to (lecture+questions) per user"
   ]
  },
  {
   "cell_type": "code",
   "execution_count": null,
   "metadata": {},
   "outputs": [],
   "source": [
    "train_df.user_lecture_lv=train_df.user_lecture_lv.astype('float16')\n",
    "train_df.user_lecture_cumsum=train_df.user_lecture_cumsum.astype('int8')\n",
    "user_lecture_agg = train_df.groupby('user_id')['content_type_id'].agg(['sum', 'count']) ## 总共的"
   ]
  },
  {
   "cell_type": "code",
   "execution_count": null,
   "metadata": {
    "execution": {
     "iopub.execute_input": "2020-12-14T22:11:43.212328Z",
     "iopub.status.busy": "2020-12-14T22:11:43.211533Z",
     "iopub.status.idle": "2020-12-14T22:12:01.821828Z",
     "shell.execute_reply": "2020-12-14T22:12:01.821Z"
    },
    "papermill": {
     "duration": 29.982909,
     "end_time": "2020-12-14T22:12:01.821971",
     "exception": false,
     "start_time": "2020-12-14T22:11:31.839062",
     "status": "completed"
    },
    "tags": []
   },
   "outputs": [],
   "source": [
    "train_df['prior_question_had_explanation'].fillna(False, inplace=True)\n",
    "train_df = train_df.astype(data_types_dict)\n",
    "train_df = train_df[train_df[target] != -1].reset_index(drop=True)"
   ]
  },
  {
   "cell_type": "markdown",
   "metadata": {},
   "source": [
    "**Mean impuation need to be improved by grouping by or not need impuation**"
   ]
  },
  {
   "cell_type": "code",
   "execution_count": null,
   "metadata": {},
   "outputs": [],
   "source": [
    "prior_question_elapsed_time_mean=train_df['prior_question_elapsed_time'].mean() ##mean impuation, group by imputation\n",
    "train_df['prior_question_elapsed_time'].fillna(prior_question_elapsed_time_mean, inplace=True)"
   ]
  },
  {
   "cell_type": "code",
   "execution_count": null,
   "metadata": {
    "execution": {
     "iopub.execute_input": "2020-12-14T22:12:03.327502Z",
     "iopub.status.busy": "2020-12-14T22:12:03.326686Z",
     "iopub.status.idle": "2020-12-14T22:12:06.384881Z",
     "shell.execute_reply": "2020-12-14T22:12:06.384185Z"
    },
    "papermill": {
     "duration": 4.50086,
     "end_time": "2020-12-14T22:12:06.385033",
     "exception": false,
     "start_time": "2020-12-14T22:12:01.884173",
     "status": "completed"
    },
    "tags": []
   },
   "outputs": [],
   "source": [
    "max_timestamp_u = train_df[['user_id','timestamp']].groupby(['user_id']).agg(['max']).reset_index()\n",
    "#max_timestamp_u = train_df[['user_id','timestamp']].groupby(['user_id']).agg(['max'])\n",
    "max_timestamp_u.columns = ['user_id', 'max_time_stamp'] ##how many time spend per user?"
   ]
  },
  {
   "cell_type": "code",
   "execution_count": null,
   "metadata": {
    "execution": {
     "iopub.execute_input": "2020-12-14T22:12:06.518409Z",
     "iopub.status.busy": "2020-12-14T22:12:06.517633Z",
     "iopub.status.idle": "2020-12-14T22:12:13.518561Z",
     "shell.execute_reply": "2020-12-14T22:12:13.517766Z"
    },
    "papermill": {
     "duration": 7.071433,
     "end_time": "2020-12-14T22:12:13.518689",
     "exception": false,
     "start_time": "2020-12-14T22:12:06.447256",
     "status": "completed"
    },
    "tags": []
   },
   "outputs": [],
   "source": [
    "train_df['lagtime'] = train_df.groupby('user_id')['timestamp'].shift() ##shift lag by one row\n",
    "train_df['lagtime']=train_df['timestamp']-train_df['lagtime']\n",
    "train_df['lagtime'].fillna(0, inplace=True)\n",
    "train_df.lagtime=train_df.lagtime.astype('int32')\n",
    "#train_df.drop(columns=['timestamp'], inplace=True)\n",
    "###current timestamp for the question"
   ]
  },
  {
   "cell_type": "code",
   "execution_count": null,
   "metadata": {
    "execution": {
     "iopub.execute_input": "2020-12-14T22:12:13.65067Z",
     "iopub.status.busy": "2020-12-14T22:12:13.649841Z",
     "iopub.status.idle": "2020-12-14T22:12:19.105363Z",
     "shell.execute_reply": "2020-12-14T22:12:19.10472Z"
    },
    "papermill": {
     "duration": 5.524562,
     "end_time": "2020-12-14T22:12:19.105531",
     "exception": false,
     "start_time": "2020-12-14T22:12:13.580969",
     "status": "completed"
    },
    "tags": []
   },
   "outputs": [],
   "source": [
    "lagtime_agg = train_df.groupby('user_id')['lagtime'].agg(['mean']) ##how many time used for each question per user?\n",
    "train_df['lagtime_mean'] = train_df['user_id'].map(lagtime_agg['mean'])\n",
    "train_df.lagtime_mean=train_df.lagtime_mean.astype('int32')"
   ]
  },
  {
   "cell_type": "markdown",
   "metadata": {},
   "source": [
    "**为啥这么做**"
   ]
  },
  {
   "cell_type": "code",
   "execution_count": null,
   "metadata": {
    "execution": {
     "iopub.execute_input": "2020-12-14T22:12:19.242366Z",
     "iopub.status.busy": "2020-12-14T22:12:19.240761Z",
     "iopub.status.idle": "2020-12-14T22:12:27.958402Z",
     "shell.execute_reply": "2020-12-14T22:12:27.957716Z"
    },
    "papermill": {
     "duration": 8.788197,
     "end_time": "2020-12-14T22:12:27.958535",
     "exception": false,
     "start_time": "2020-12-14T22:12:19.170338",
     "status": "completed"
    },
    "tags": []
   },
   "outputs": [],
   "source": [
    "user_prior_question_elapsed_time = train_df[['user_id','prior_question_elapsed_time']].groupby(['user_id']).tail(1)\n",
    "#max_timestamp_u = train_df[['user_id','timestamp']].groupby(['user_id']).agg(['max'])\n",
    "user_prior_question_elapsed_time.columns = ['user_id', 'prior_question_elapsed_time']"
   ]
  },
  {
   "cell_type": "markdown",
   "metadata": {},
   "source": [
    "**REMEMBER: this is prior not current. Shall we use prior or current?**"
   ]
  },
  {
   "cell_type": "code",
   "execution_count": null,
   "metadata": {
    "execution": {
     "iopub.execute_input": "2020-12-14T22:12:28.093223Z",
     "iopub.status.busy": "2020-12-14T22:12:28.092439Z",
     "iopub.status.idle": "2020-12-14T22:12:33.726031Z",
     "shell.execute_reply": "2020-12-14T22:12:33.725286Z"
    },
    "papermill": {
     "duration": 5.702995,
     "end_time": "2020-12-14T22:12:33.726163",
     "exception": false,
     "start_time": "2020-12-14T22:12:28.023168",
     "status": "completed"
    },
    "tags": []
   },
   "outputs": [],
   "source": [
    "train_df['delta_prior_question_elapsed_time'] = train_df.groupby('user_id')['prior_question_elapsed_time'].shift()\n",
    "train_df['delta_prior_question_elapsed_time']=train_df['prior_question_elapsed_time']-train_df['delta_prior_question_elapsed_time']\n",
    "train_df['delta_prior_question_elapsed_time'].fillna(0, inplace=True)\n",
    "###current question answer time"
   ]
  },
  {
   "cell_type": "code",
   "execution_count": null,
   "metadata": {
    "execution": {
     "iopub.execute_input": "2020-12-14T22:12:33.862682Z",
     "iopub.status.busy": "2020-12-14T22:12:33.86184Z",
     "iopub.status.idle": "2020-12-14T22:12:34.249825Z",
     "shell.execute_reply": "2020-12-14T22:12:34.248978Z"
    },
    "papermill": {
     "duration": 0.458647,
     "end_time": "2020-12-14T22:12:34.249967",
     "exception": false,
     "start_time": "2020-12-14T22:12:33.79132",
     "status": "completed"
    },
    "tags": []
   },
   "outputs": [],
   "source": [
    "train_df.delta_prior_question_elapsed_time=train_df.delta_prior_question_elapsed_time.astype('int32')"
   ]
  },
  {
   "cell_type": "code",
   "execution_count": null,
   "metadata": {},
   "outputs": [],
   "source": [
    "train_df['timestamp']=train_df['timestamp']/(1000*3600) ###convert to hour unit"
   ]
  },
  {
   "cell_type": "markdown",
   "metadata": {},
   "source": [
    "**should we use float instead of integer**"
   ]
  },
  {
   "cell_type": "code",
   "execution_count": null,
   "metadata": {},
   "outputs": [],
   "source": [
    "train_df.timestamp=train_df.timestamp.astype('int16')"
   ]
  },
  {
   "cell_type": "markdown",
   "metadata": {},
   "source": [
    "**备注：修改correctly answer错位问题**"
   ]
  },
  {
   "cell_type": "code",
   "execution_count": null,
   "metadata": {
    "execution": {
     "iopub.execute_input": "2020-12-14T22:12:35.395333Z",
     "iopub.status.busy": "2020-12-14T22:12:35.394365Z",
     "iopub.status.idle": "2020-12-14T22:13:03.689887Z",
     "shell.execute_reply": "2020-12-14T22:13:03.688705Z"
    },
    "papermill": {
     "duration": 28.371163,
     "end_time": "2020-12-14T22:13:03.690081",
     "exception": false,
     "start_time": "2020-12-14T22:12:35.318918",
     "status": "completed"
    },
    "tags": []
   },
   "outputs": [],
   "source": [
    "# train_df['lag'] = train_df.groupby('user_id')[target].shift()\n",
    "\n",
    "cum = train_df.groupby('user_id')[target].agg(['cumsum', 'cumcount'])\n",
    "train_df['user_correctness'] = cum['cumsum'] / cum['cumcount']\n",
    "train_df['user_correct_cumsum'] = cum['cumsum']\n",
    "train_df['user_correct_cumcount'] = cum['cumcount']\n",
    "\n",
    "train_df.user_correctness=train_df.user_correctness.astype('float16')\n",
    "train_df.user_correct_cumcount=train_df.user_correct_cumcount.astype('int16')\n",
    "train_df.user_correct_cumsum=train_df.user_correct_cumsum.astype('int16')\n",
    "\n",
    "# train_df.drop(columns=['lag'], inplace=True)\n",
    "# train_df['user_correctness'].fillna(1, inplace=True)\n",
    "# train_df['user_correct_cumsum'].fillna(0, inplace=True) ##worst case imputation\n",
    "#train_df['user_correct_cumcount'].fillna(0, inplace=True)"
   ]
  },
  {
   "cell_type": "code",
   "execution_count": null,
   "metadata": {
    "execution": {
     "iopub.execute_input": "2020-12-14T22:13:03.84698Z",
     "iopub.status.busy": "2020-12-14T22:13:03.84609Z",
     "iopub.status.idle": "2020-12-14T22:13:09.388987Z",
     "shell.execute_reply": "2020-12-14T22:13:09.388177Z"
    },
    "papermill": {
     "duration": 5.623095,
     "end_time": "2020-12-14T22:13:09.389113",
     "exception": false,
     "start_time": "2020-12-14T22:13:03.766018",
     "status": "completed"
    },
    "tags": []
   },
   "outputs": [],
   "source": [
    "train_df.prior_question_had_explanation=train_df.prior_question_had_explanation.astype('int8')\n",
    "# train_df['lag'] = train_df.groupby('user_id')['prior_question_had_explanation'].shift()\n",
    "\n",
    "train_df['lead'] = train_df.groupby('user_id')['prior_question_had_explanation'].shift(-1)"
   ]
  },
  {
   "cell_type": "code",
   "execution_count": null,
   "metadata": {},
   "outputs": [],
   "source": [
    "print(psutil.virtual_memory().percent)"
   ]
  },
  {
   "cell_type": "code",
   "execution_count": null,
   "metadata": {
    "execution": {
     "iopub.execute_input": "2020-12-14T22:13:09.528467Z",
     "iopub.status.busy": "2020-12-14T22:13:09.526891Z",
     "iopub.status.idle": "2020-12-14T22:13:28.277556Z",
     "shell.execute_reply": "2020-12-14T22:13:28.27687Z"
    },
    "papermill": {
     "duration": 18.824904,
     "end_time": "2020-12-14T22:13:28.277723",
     "exception": false,
     "start_time": "2020-12-14T22:13:09.452819",
     "status": "completed"
    },
    "tags": []
   },
   "outputs": [],
   "source": [
    "# cum = train_df.groupby('user_id')['lag'].agg(['cumsum', 'cumcount'])\n",
    "cum = train_df.groupby('user_id')['lead'].agg(['cumsum', 'cumcount'])\n",
    "train_df['explanation_mean'] = cum['cumsum'] / cum['cumcount']\n",
    "train_df['explanation_cumsum'] = cum['cumsum'] \n",
    "train_df.drop(columns=['lead'], inplace=True)\n",
    "# train_df.drop(columns=['lag'], inplace=True)\n",
    "\n",
    "train_df['explanation_mean'].fillna(0, inplace=True)\n",
    "train_df['explanation_cumsum'].fillna(0, inplace=True)\n",
    "train_df.explanation_mean=train_df.explanation_mean.astype('float16')\n",
    "train_df.explanation_cumsum=train_df.explanation_cumsum.astype('int16')"
   ]
  },
  {
   "cell_type": "code",
   "execution_count": null,
   "metadata": {
    "execution": {
     "iopub.execute_input": "2020-12-14T22:13:28.509874Z",
     "iopub.status.busy": "2020-12-14T22:13:28.508884Z",
     "iopub.status.idle": "2020-12-14T22:13:28.514362Z",
     "shell.execute_reply": "2020-12-14T22:13:28.513655Z"
    },
    "papermill": {
     "duration": 0.172289,
     "end_time": "2020-12-14T22:13:28.514524",
     "exception": false,
     "start_time": "2020-12-14T22:13:28.342235",
     "status": "completed"
    },
    "tags": []
   },
   "outputs": [],
   "source": [
    "del cum\n",
    "gc.collect() "
   ]
  },
  {
   "cell_type": "code",
   "execution_count": null,
   "metadata": {},
   "outputs": [],
   "source": [
    "print(psutil.virtual_memory().percent)"
   ]
  },
  {
   "cell_type": "code",
   "execution_count": null,
   "metadata": {
    "execution": {
     "iopub.execute_input": "2020-12-14T22:13:28.651535Z",
     "iopub.status.busy": "2020-12-14T22:13:28.650671Z",
     "iopub.status.idle": "2020-12-14T22:14:24.677541Z",
     "shell.execute_reply": "2020-12-14T22:14:24.676861Z"
    },
    "papermill": {
     "duration": 56.097755,
     "end_time": "2020-12-14T22:14:24.677684",
     "exception": false,
     "start_time": "2020-12-14T22:13:28.579929",
     "status": "completed"
    },
    "tags": []
   },
   "outputs": [],
   "source": [
    "train_df[\"attempt_no\"] = 1\n",
    "train_df.attempt_no=train_df.attempt_no.astype('int8')\n",
    "train_df[\"attempt_no\"] = train_df[[\"user_id\",\"content_id\",'attempt_no']].groupby([\"user_id\",\"content_id\"])[\"attempt_no\"].cumsum()\n",
    "##每个人每道题做几次"
   ]
  },
  {
   "cell_type": "code",
   "execution_count": null,
   "metadata": {
    "execution": {
     "iopub.execute_input": "2020-12-14T22:14:24.833136Z",
     "iopub.status.busy": "2020-12-14T22:14:24.832137Z",
     "iopub.status.idle": "2020-12-14T22:14:24.837624Z",
     "shell.execute_reply": "2020-12-14T22:14:24.837014Z"
    },
    "papermill": {
     "duration": 0.093719,
     "end_time": "2020-12-14T22:14:24.83777",
     "exception": false,
     "start_time": "2020-12-14T22:14:24.744051",
     "status": "completed"
    },
    "tags": []
   },
   "outputs": [],
   "source": [
    "#  train_df[train_df['attempt_no']==80]"
   ]
  },
  {
   "cell_type": "code",
   "execution_count": null,
   "metadata": {},
   "outputs": [],
   "source": [
    "train_df[(train_df['user_id']==499347415) & (train_df['content_id']==7857)]"
   ]
  },
  {
   "cell_type": "code",
   "execution_count": null,
   "metadata": {
    "execution": {
     "iopub.execute_input": "2020-12-14T22:14:24.977398Z",
     "iopub.status.busy": "2020-12-14T22:14:24.976418Z",
     "iopub.status.idle": "2020-12-14T22:14:24.981191Z",
     "shell.execute_reply": "2020-12-14T22:14:24.980635Z"
    },
    "papermill": {
     "duration": 0.078126,
     "end_time": "2020-12-14T22:14:24.981329",
     "exception": false,
     "start_time": "2020-12-14T22:14:24.903203",
     "status": "completed"
    },
    "tags": []
   },
   "outputs": [],
   "source": [
    "train_df.dtypes"
   ]
  },
  {
   "cell_type": "code",
   "execution_count": null,
   "metadata": {
    "execution": {
     "iopub.execute_input": "2020-12-14T22:14:25.120685Z",
     "iopub.status.busy": "2020-12-14T22:14:25.119827Z",
     "iopub.status.idle": "2020-12-14T22:14:29.565282Z",
     "shell.execute_reply": "2020-12-14T22:14:29.564658Z"
    },
    "papermill": {
     "duration": 4.517593,
     "end_time": "2020-12-14T22:14:29.565443",
     "exception": false,
     "start_time": "2020-12-14T22:14:25.04785",
     "status": "completed"
    },
    "tags": []
   },
   "outputs": [],
   "source": [
    "explanation_agg = train_df.groupby('user_id')['prior_question_had_explanation'].agg(['sum', 'count'])\n",
    "explanation_agg = explanation_agg.astype('int16')\n",
    "#train_df.drop(columns=['prior_question_had_explanation'], inplace=True)\n",
    "#看过几个explanation"
   ]
  },
  {
   "cell_type": "code",
   "execution_count": null,
   "metadata": {
    "execution": {
     "iopub.execute_input": "2020-12-14T22:14:29.76019Z",
     "iopub.status.busy": "2020-12-14T22:14:29.75932Z",
     "iopub.status.idle": "2020-12-14T22:14:48.690507Z",
     "shell.execute_reply": "2020-12-14T22:14:48.689642Z"
    },
    "papermill": {
     "duration": 19.004727,
     "end_time": "2020-12-14T22:14:48.690651",
     "exception": false,
     "start_time": "2020-12-14T22:14:29.685924",
     "status": "completed"
    },
    "tags": []
   },
   "outputs": [],
   "source": [
    "user_agg = train_df.groupby('user_id')[target].agg(['sum', 'count']) ###total question answered correctly per user\n",
    "content_agg = train_df.groupby('content_id')[target].agg(['sum', 'count','var'])  ###total number of answered correlcy per question\n",
    "task_container_agg = train_df.groupby('task_container_id')[target].agg(['sum', 'count','var']) ##total number of answered correctly per bundle\n",
    "\n",
    "#prior_question_elapsed_time_agg = train_df.groupby('user_id')['prior_question_elapsed_time'].agg(['sum', 'count'])"
   ]
  },
  {
   "cell_type": "code",
   "execution_count": null,
   "metadata": {
    "execution": {
     "iopub.execute_input": "2020-12-14T22:14:48.832558Z",
     "iopub.status.busy": "2020-12-14T22:14:48.831325Z",
     "iopub.status.idle": "2020-12-14T22:14:48.838009Z",
     "shell.execute_reply": "2020-12-14T22:14:48.837152Z"
    },
    "papermill": {
     "duration": 0.079791,
     "end_time": "2020-12-14T22:14:48.838141",
     "exception": false,
     "start_time": "2020-12-14T22:14:48.75835",
     "status": "completed"
    },
    "tags": []
   },
   "outputs": [],
   "source": [
    "user_agg=user_agg.astype('int16')\n",
    "content_agg=content_agg.astype('float32')\n",
    "task_container_agg=task_container_agg.astype('float32')"
   ]
  },
  {
   "cell_type": "markdown",
   "metadata": {},
   "source": [
    "**可能有问题，sum算出来是什么---已改为max**"
   ]
  },
  {
   "cell_type": "code",
   "execution_count": null,
   "metadata": {
    "execution": {
     "iopub.execute_input": "2020-12-14T22:14:48.980596Z",
     "iopub.status.busy": "2020-12-14T22:14:48.979725Z",
     "iopub.status.idle": "2020-12-14T22:16:03.00526Z",
     "shell.execute_reply": "2020-12-14T22:16:03.004509Z"
    },
    "papermill": {
     "duration": 74.099687,
     "end_time": "2020-12-14T22:16:03.005423",
     "exception": false,
     "start_time": "2020-12-14T22:14:48.905736",
     "status": "completed"
    },
    "tags": []
   },
   "outputs": [],
   "source": [
    "attempt_no_agg=train_df.groupby([\"user_id\",\"content_id\"])[\"attempt_no\"].max()\n",
    "attempt_no_agg=attempt_no_agg.astype('int8')\n",
    "#attempt_series = train_df[['user_id', 'content_id','attempt_no']].groupby(['user_id','content_id'])['attempt_no'].agg(['sum'])\n"
   ]
  },
  {
   "cell_type": "code",
   "execution_count": null,
   "metadata": {},
   "outputs": [],
   "source": [
    "# train_df[train_df['user_id']==499347415].sort_values(by=['content_id', 'timestamp']).head(n=60)"
   ]
  },
  {
   "cell_type": "code",
   "execution_count": null,
   "metadata": {},
   "outputs": [],
   "source": [
    "# attempt_no_agg[499347415]"
   ]
  },
  {
   "cell_type": "code",
   "execution_count": null,
   "metadata": {},
   "outputs": [],
   "source": [
    "attempt_no_agg"
   ]
  },
  {
   "cell_type": "code",
   "execution_count": null,
   "metadata": {},
   "outputs": [],
   "source": [
    "# content_agg['count']"
   ]
  },
  {
   "cell_type": "code",
   "execution_count": null,
   "metadata": {
    "execution": {
     "iopub.execute_input": "2020-12-14T22:16:03.158742Z",
     "iopub.status.busy": "2020-12-14T22:16:03.156Z",
     "iopub.status.idle": "2020-12-14T22:16:12.964758Z",
     "shell.execute_reply": "2020-12-14T22:16:12.963913Z"
    },
    "papermill": {
     "duration": 9.889271,
     "end_time": "2020-12-14T22:16:12.964891",
     "exception": false,
     "start_time": "2020-12-14T22:16:03.07562",
     "status": "completed"
    },
    "tags": []
   },
   "outputs": [],
   "source": [
    "train_df['content_count'] = train_df['content_id'].map(content_agg['count']).astype('int32')\n",
    "train_df['content_sum'] = train_df['content_id'].map(content_agg['sum']).astype('int32')\n",
    "train_df['content_correctness'] = train_df['content_id'].map(content_agg['sum'] / content_agg['count'])\n",
    "train_df.content_correctness=train_df.content_correctness.astype('float16')\n",
    "train_df['task_container_sum'] = train_df['task_container_id'].map(task_container_agg['sum']).astype('int32')\n",
    "train_df['task_container_var'] = train_df['task_container_id'].map(task_container_agg['var']).astype('float16')\n",
    "train_df['task_container_correctness'] = train_df['task_container_id'].map(task_container_agg['sum'] / task_container_agg['count'])\n",
    "train_df.task_container_correctness=train_df.task_container_correctness.astype('float16')"
   ]
  },
  {
   "cell_type": "markdown",
   "metadata": {},
   "source": [
    "**Question Data：考虑加入KMEAN CLUSTER AND BAYESIAN IRT**"
   ]
  },
  {
   "cell_type": "code",
   "execution_count": null,
   "metadata": {
    "execution": {
     "iopub.execute_input": "2020-12-14T22:16:13.121781Z",
     "iopub.status.busy": "2020-12-14T22:16:13.112136Z",
     "iopub.status.idle": "2020-12-14T22:16:13.233996Z",
     "shell.execute_reply": "2020-12-14T22:16:13.233298Z"
    },
    "papermill": {
     "duration": 0.199894,
     "end_time": "2020-12-14T22:16:13.234126",
     "exception": false,
     "start_time": "2020-12-14T22:16:13.034232",
     "status": "completed"
    },
    "tags": []
   },
   "outputs": [],
   "source": [
    "questions_df = pd.read_csv(\n",
    "    '../input/riiid-test-answer-prediction/questions.csv', \n",
    "#     usecols=[0,1,3,4],\n",
    "    dtype={'question_id': 'int16','bundle_id': 'int16', 'part': 'int8','tags': 'str'}\n",
    ")\n",
    "# questions_df['part_bundle_id']=questions_df['part']*100000+questions_df['bundle_id']\n",
    "# questions_df.part_bundle_id=questions_df.part_bundle_id.astype('int32')\n",
    "# tag = questions_df[\"tags\"].str.split(\" \", n = 10, expand = True)\n",
    "# tag.columns = ['tags1','tags2','tags3','tags4','tags5','tags6']\n",
    "# \n",
    "# tag.fillna(0, inplace=True)\n",
    "# tag = tag.astype('int16')\n",
    "# questions_df =  pd.concat([questions_df,tag],axis=1).drop(['tags'],axis=1)"
   ]
  },
  {
   "cell_type": "code",
   "execution_count": null,
   "metadata": {},
   "outputs": [],
   "source": [
    "tag1 = questions_df.tags.str.split(pat=\" \", expand=True)\n",
    "tag1 = tag1[~pd.isnull(tag1)]\n",
    "tag1.columns=['T1', 'T2', 'T3', 'T4', 'T5', 'T6']\n",
    "tag2 = tag1.drop(columns=['T5', 'T6'])\n",
    "n_tag = tag2.count(axis=1)\n",
    "list_tag = tag2.values.tolist()\n",
    "question_tag1 = pd.DataFrame(data = questions_df['question_id'])\n",
    "question_tag1['tag'] = list_tag\n",
    "question_tag2 = question_tag1.explode('tag')\n",
    "question_tag3 = pd.get_dummies(question_tag2)\n",
    "question_tag = question_tag3.groupby(['question_id']).sum()\n",
    "question_tag['n_tags'] = question_tag.sum(axis=1)\n",
    "question_clean = questions_df.merge(question_tag, left_on='question_id', right_on='question_id')\n",
    "question_clean['bundle_count'] = question_clean.groupby(['bundle_id']).size()\n",
    "question_clean['bundle_binary'] = question_clean['bundle_count'].apply(lambda x: 0 if x <=1 else 1)\n",
    "question_clean[['bundle_binary']].astype('category')\n",
    "question_clean['part_re'] = question_clean.apply(lambda x: 0 if x['part'] <=4 else 1, axis=1) ##binary; 0=listening, 1=reading\n"
   ]
  },
  {
   "cell_type": "markdown",
   "metadata": {},
   "source": [
    "**KMean 考虑不要**"
   ]
  },
  {
   "cell_type": "code",
   "execution_count": null,
   "metadata": {},
   "outputs": [],
   "source": [
    "X = question_clean.iloc[:, 5:193]\n",
    "kmeans = KMeans(n_clusters= 100, random_state=0)\n",
    "kmeans_pred_y = kmeans.fit_predict(X)\n",
    "question_clean['kmean_cluster100'] = kmeans_pred_y\n",
    "question_clean[['kmean_cluster100']].astype('category')"
   ]
  },
  {
   "cell_type": "code",
   "execution_count": null,
   "metadata": {},
   "outputs": [],
   "source": [
    "questions_df = question_clean"
   ]
  },
  {
   "cell_type": "code",
   "execution_count": null,
   "metadata": {},
   "outputs": [],
   "source": [
    "del question_clean"
   ]
  },
  {
   "cell_type": "code",
   "execution_count": null,
   "metadata": {},
   "outputs": [],
   "source": [
    "questions_df.head()"
   ]
  },
  {
   "cell_type": "code",
   "execution_count": null,
   "metadata": {},
   "outputs": [],
   "source": [
    "# questions_df.kmean_cluster30.describe()"
   ]
  },
  {
   "cell_type": "code",
   "execution_count": null,
   "metadata": {
    "execution": {
     "iopub.execute_input": "2020-12-14T22:16:13.378348Z",
     "iopub.status.busy": "2020-12-14T22:16:13.377505Z",
     "iopub.status.idle": "2020-12-14T22:16:13.381165Z",
     "shell.execute_reply": "2020-12-14T22:16:13.38042Z"
    },
    "papermill": {
     "duration": 0.07814,
     "end_time": "2020-12-14T22:16:13.381294",
     "exception": false,
     "start_time": "2020-12-14T22:16:13.303154",
     "status": "completed"
    },
    "tags": []
   },
   "outputs": [],
   "source": [
    "questions_df.rename(columns={'question_id':'content_id', 'kmean_cluster100': 'tags1'}, inplace=True)"
   ]
  },
  {
   "cell_type": "code",
   "execution_count": null,
   "metadata": {},
   "outputs": [],
   "source": [
    "questions_df = questions_df.loc[:, ['content_id', 'bundle_id', 'part', 'tags1']]"
   ]
  },
  {
   "cell_type": "code",
   "execution_count": null,
   "metadata": {},
   "outputs": [],
   "source": [
    "questions_df.head()"
   ]
  },
  {
   "cell_type": "code",
   "execution_count": null,
   "metadata": {
    "execution": {
     "iopub.execute_input": "2020-12-14T22:16:13.53868Z",
     "iopub.status.busy": "2020-12-14T22:16:13.537485Z",
     "iopub.status.idle": "2020-12-14T22:16:13.548635Z",
     "shell.execute_reply": "2020-12-14T22:16:13.547672Z"
    },
    "papermill": {
     "duration": 0.098828,
     "end_time": "2020-12-14T22:16:13.548773",
     "exception": false,
     "start_time": "2020-12-14T22:16:13.449945",
     "status": "completed"
    },
    "tags": []
   },
   "outputs": [],
   "source": [
    "questions_df['content_correctness'] = questions_df['content_id'].map(content_agg['sum'] / content_agg['count'])\n",
    "questions_df.content_correctness=questions_df.content_correctness.astype('float16')\n",
    "questions_df['content_correctness_var'] = questions_df['content_id'].map(content_agg['var'])\n",
    "questions_df.content_correctness_var=questions_df.content_correctness_var.astype('float16')"
   ]
  },
  {
   "cell_type": "code",
   "execution_count": null,
   "metadata": {
    "execution": {
     "iopub.execute_input": "2020-12-14T22:16:13.722714Z",
     "iopub.status.busy": "2020-12-14T22:16:13.72135Z",
     "iopub.status.idle": "2020-12-14T22:16:13.736473Z",
     "shell.execute_reply": "2020-12-14T22:16:13.735799Z"
    },
    "papermill": {
     "duration": 0.109602,
     "end_time": "2020-12-14T22:16:13.736624",
     "exception": false,
     "start_time": "2020-12-14T22:16:13.627022",
     "status": "completed"
    },
    "tags": []
   },
   "outputs": [],
   "source": [
    "part_agg = questions_df.groupby('part')['content_correctness'].agg(['mean', 'var'])\n",
    "questions_df['part_correctness_mean'] = questions_df['part'].map(part_agg['mean'])\n",
    "questions_df['part_correctness_var'] = questions_df['part'].map(part_agg['var'])\n",
    "questions_df.part_correctness_mean=questions_df.part_correctness_mean.astype('float16')\n",
    "questions_df.part_correctness_var=questions_df.part_correctness_var.astype('float16')"
   ]
  },
  {
   "cell_type": "code",
   "execution_count": null,
   "metadata": {
    "execution": {
     "iopub.execute_input": "2020-12-14T22:16:13.89799Z",
     "iopub.status.busy": "2020-12-14T22:16:13.897125Z",
     "iopub.status.idle": "2020-12-14T22:16:13.914866Z",
     "shell.execute_reply": "2020-12-14T22:16:13.914024Z"
    },
    "papermill": {
     "duration": 0.099075,
     "end_time": "2020-12-14T22:16:13.915027",
     "exception": false,
     "start_time": "2020-12-14T22:16:13.815952",
     "status": "completed"
    },
    "tags": []
   },
   "outputs": [],
   "source": [
    "bundle_agg = questions_df.groupby('bundle_id')['content_correctness'].agg(['mean'])\n",
    "questions_df['bundle_correctness'] = questions_df['bundle_id'].map(bundle_agg['mean'])\n",
    "questions_df.bundle_correctness=questions_df.bundle_correctness.astype('float16')"
   ]
  },
  {
   "cell_type": "code",
   "execution_count": null,
   "metadata": {
    "execution": {
     "iopub.execute_input": "2020-12-14T22:16:14.077416Z",
     "iopub.status.busy": "2020-12-14T22:16:14.076281Z",
     "iopub.status.idle": "2020-12-14T22:16:14.093503Z",
     "shell.execute_reply": "2020-12-14T22:16:14.092338Z"
    },
    "papermill": {
     "duration": 0.105536,
     "end_time": "2020-12-14T22:16:14.093814",
     "exception": false,
     "start_time": "2020-12-14T22:16:13.988278",
     "status": "completed"
    },
    "tags": []
   },
   "outputs": [],
   "source": [
    "tags1_agg = questions_df.groupby('tags1')['content_correctness'].agg(['mean', 'var'])\n",
    "questions_df['tags1_correctness_mean'] = questions_df['tags1'].map(tags1_agg['mean'])\n",
    "questions_df['tags1_correctness_var'] = questions_df['tags1'].map(tags1_agg['var'])\n",
    "questions_df.tags1_correctness_mean=questions_df.tags1_correctness_mean.astype('float16')\n",
    "questions_df.tags1_correctness_var=questions_df.tags1_correctness_var.astype('float16')"
   ]
  },
  {
   "cell_type": "code",
   "execution_count": null,
   "metadata": {},
   "outputs": [],
   "source": [
    "questions_df.head()"
   ]
  },
  {
   "cell_type": "code",
   "execution_count": null,
   "metadata": {
    "execution": {
     "iopub.execute_input": "2020-12-14T22:16:14.255477Z",
     "iopub.status.busy": "2020-12-14T22:16:14.254597Z",
     "iopub.status.idle": "2020-12-14T22:16:14.260729Z",
     "shell.execute_reply": "2020-12-14T22:16:14.261348Z"
    },
    "papermill": {
     "duration": 0.092342,
     "end_time": "2020-12-14T22:16:14.261534",
     "exception": false,
     "start_time": "2020-12-14T22:16:14.169192",
     "status": "completed"
    },
    "tags": []
   },
   "outputs": [],
   "source": [
    "questions_df.drop(columns=['content_correctness'], inplace=True)"
   ]
  },
  {
   "cell_type": "code",
   "execution_count": null,
   "metadata": {
    "execution": {
     "iopub.execute_input": "2020-12-14T22:16:14.40966Z",
     "iopub.status.busy": "2020-12-14T22:16:14.408575Z",
     "iopub.status.idle": "2020-12-14T22:16:14.414065Z",
     "shell.execute_reply": "2020-12-14T22:16:14.413228Z"
    },
    "papermill": {
     "duration": 0.083137,
     "end_time": "2020-12-14T22:16:14.414207",
     "exception": false,
     "start_time": "2020-12-14T22:16:14.33107",
     "status": "completed"
    },
    "tags": []
   },
   "outputs": [],
   "source": [
    "questions_df.dtypes"
   ]
  },
  {
   "cell_type": "code",
   "execution_count": null,
   "metadata": {
    "execution": {
     "iopub.execute_input": "2020-12-14T22:16:14.647938Z",
     "iopub.status.busy": "2020-12-14T22:16:14.646903Z",
     "iopub.status.idle": "2020-12-14T22:16:14.652597Z",
     "shell.execute_reply": "2020-12-14T22:16:14.65182Z"
    },
    "papermill": {
     "duration": 0.166757,
     "end_time": "2020-12-14T22:16:14.652727",
     "exception": false,
     "start_time": "2020-12-14T22:16:14.48597",
     "status": "completed"
    },
    "tags": []
   },
   "outputs": [],
   "source": [
    "del bundle_agg\n",
    "del part_agg\n",
    "del tags1_agg\n",
    "gc.collect()"
   ]
  },
  {
   "cell_type": "code",
   "execution_count": null,
   "metadata": {
    "execution": {
     "iopub.execute_input": "2020-12-14T22:16:14.823821Z",
     "iopub.status.busy": "2020-12-14T22:16:14.822986Z",
     "iopub.status.idle": "2020-12-14T22:16:14.826477Z",
     "shell.execute_reply": "2020-12-14T22:16:14.825708Z"
    },
    "papermill": {
     "duration": 0.094277,
     "end_time": "2020-12-14T22:16:14.826607",
     "exception": false,
     "start_time": "2020-12-14T22:16:14.73233",
     "status": "completed"
    },
    "tags": []
   },
   "outputs": [],
   "source": [
    "#pd.set_option(\"display.max_columns\",500)"
   ]
  },
  {
   "cell_type": "code",
   "execution_count": null,
   "metadata": {
    "execution": {
     "iopub.execute_input": "2020-12-14T22:16:14.973432Z",
     "iopub.status.busy": "2020-12-14T22:16:14.972393Z",
     "iopub.status.idle": "2020-12-14T22:16:14.976079Z",
     "shell.execute_reply": "2020-12-14T22:16:14.975297Z"
    },
    "papermill": {
     "duration": 0.079108,
     "end_time": "2020-12-14T22:16:14.976261",
     "exception": false,
     "start_time": "2020-12-14T22:16:14.897153",
     "status": "completed"
    },
    "tags": []
   },
   "outputs": [],
   "source": [
    "#questions_df.drop(columns=['tags4','tags5','tags6'], inplace=True)"
   ]
  },
  {
   "cell_type": "code",
   "execution_count": null,
   "metadata": {
    "execution": {
     "iopub.execute_input": "2020-12-14T22:16:15.128665Z",
     "iopub.status.busy": "2020-12-14T22:16:15.127303Z",
     "iopub.status.idle": "2020-12-14T22:16:15.133238Z",
     "shell.execute_reply": "2020-12-14T22:16:15.132234Z"
    },
    "papermill": {
     "duration": 0.083542,
     "end_time": "2020-12-14T22:16:15.133427",
     "exception": false,
     "start_time": "2020-12-14T22:16:15.049885",
     "status": "completed"
    },
    "tags": []
   },
   "outputs": [],
   "source": [
    "len(train_df)"
   ]
  },
  {
   "cell_type": "code",
   "execution_count": null,
   "metadata": {
    "execution": {
     "iopub.execute_input": "2020-12-14T22:16:15.283277Z",
     "iopub.status.busy": "2020-12-14T22:16:15.282503Z",
     "iopub.status.idle": "2020-12-14T22:16:18.121689Z",
     "shell.execute_reply": "2020-12-14T22:16:18.120902Z"
    },
    "papermill": {
     "duration": 2.916948,
     "end_time": "2020-12-14T22:16:18.121832",
     "exception": false,
     "start_time": "2020-12-14T22:16:15.204884",
     "status": "completed"
    },
    "tags": []
   },
   "outputs": [],
   "source": [
    "train_df['user_correctness'].fillna( 0.60, inplace=True) #mean imputation\n",
    "train_df['attempt_no'].fillna(1, inplace=True)\n",
    "#\n",
    "train_df.fillna(0, inplace=True)"
   ]
  },
  {
   "cell_type": "code",
   "execution_count": null,
   "metadata": {
    "execution": {
     "iopub.execute_input": "2020-12-14T22:16:18.282884Z",
     "iopub.status.busy": "2020-12-14T22:16:18.281968Z",
     "iopub.status.idle": "2020-12-14T22:16:18.315501Z",
     "shell.execute_reply": "2020-12-14T22:16:18.314859Z"
    },
    "papermill": {
     "duration": 0.116075,
     "end_time": "2020-12-14T22:16:18.31564",
     "exception": false,
     "start_time": "2020-12-14T22:16:18.199565",
     "status": "completed"
    },
    "tags": []
   },
   "outputs": [],
   "source": [
    "train_df.head()"
   ]
  },
  {
   "cell_type": "code",
   "execution_count": null,
   "metadata": {
    "execution": {
     "iopub.execute_input": "2020-12-14T22:16:18.475842Z",
     "iopub.status.busy": "2020-12-14T22:16:18.474759Z",
     "iopub.status.idle": "2020-12-14T22:16:18.47823Z",
     "shell.execute_reply": "2020-12-14T22:16:18.477337Z"
    },
    "papermill": {
     "duration": 0.086283,
     "end_time": "2020-12-14T22:16:18.478406",
     "exception": false,
     "start_time": "2020-12-14T22:16:18.392123",
     "status": "completed"
    },
    "tags": []
   },
   "outputs": [],
   "source": [
    "#train_df.drop(columns=['content_type_id'], inplace=True)"
   ]
  },
  {
   "cell_type": "code",
   "execution_count": null,
   "metadata": {
    "execution": {
     "iopub.execute_input": "2020-12-14T22:16:18.637073Z",
     "iopub.status.busy": "2020-12-14T22:16:18.633544Z",
     "iopub.status.idle": "2020-12-14T22:16:18.641949Z",
     "shell.execute_reply": "2020-12-14T22:16:18.641159Z"
    },
    "papermill": {
     "duration": 0.08864,
     "end_time": "2020-12-14T22:16:18.642104",
     "exception": false,
     "start_time": "2020-12-14T22:16:18.553464",
     "status": "completed"
    },
    "tags": []
   },
   "outputs": [],
   "source": [
    "train_df.dtypes"
   ]
  },
  {
   "cell_type": "markdown",
   "metadata": {
    "papermill": {
     "duration": 0.093939,
     "end_time": "2020-12-14T22:16:18.811563",
     "exception": false,
     "start_time": "2020-12-14T22:16:18.717624",
     "status": "completed"
    },
    "tags": []
   },
   "source": [
    "# SAKT Part I"
   ]
  },
  {
   "cell_type": "code",
   "execution_count": null,
   "metadata": {
    "execution": {
     "iopub.execute_input": "2020-12-14T22:16:18.97534Z",
     "iopub.status.busy": "2020-12-14T22:16:18.974548Z",
     "iopub.status.idle": "2020-12-14T22:17:13.748432Z",
     "shell.execute_reply": "2020-12-14T22:17:13.749077Z"
    },
    "papermill": {
     "duration": 54.861322,
     "end_time": "2020-12-14T22:17:13.749242",
     "exception": false,
     "start_time": "2020-12-14T22:16:18.88792",
     "status": "completed"
    },
    "tags": []
   },
   "outputs": [],
   "source": [
    "#HDKIM \n",
    "\n",
    "MAX_SEQ = 160\n",
    "\n",
    "skills = train_df[\"content_id\"].unique()\n",
    "n_skill = len(skills)\n",
    "print(\"number skills\", len(skills))\n",
    "\n",
    "group = train_df[['user_id', 'content_id', 'answered_correctly']].groupby('user_id').apply(lambda r: (\n",
    "            r['content_id'].values,\n",
    "            r['answered_correctly'].values))\n",
    "\n",
    "for user_id in group.index:\n",
    "    q, qa = group[user_id]\n",
    "    if len(q)>MAX_SEQ:\n",
    "        group[user_id] = (q[-MAX_SEQ:],qa[-MAX_SEQ:])\n",
    "        \n",
    "import pickle\n",
    "pickle.dump(group, open(\"group.pkl\", \"wb\"))\n",
    "del group\n",
    "gc.collect()\n",
    "\n",
    "#HDKIMHDKIM\n"
   ]
  },
  {
   "cell_type": "markdown",
   "metadata": {
    "papermill": {
     "duration": 0.072634,
     "end_time": "2020-12-14T22:17:13.895115",
     "exception": false,
     "start_time": "2020-12-14T22:17:13.822481",
     "status": "completed"
    },
    "tags": []
   },
   "source": [
    "# Train"
   ]
  },
  {
   "cell_type": "code",
   "execution_count": null,
   "metadata": {
    "execution": {
     "iopub.execute_input": "2020-12-14T22:17:14.055807Z",
     "iopub.status.busy": "2020-12-14T22:17:14.054863Z",
     "iopub.status.idle": "2020-12-14T22:17:14.058235Z",
     "shell.execute_reply": "2020-12-14T22:17:14.057646Z"
    },
    "papermill": {
     "duration": 0.090055,
     "end_time": "2020-12-14T22:17:14.058363",
     "exception": false,
     "start_time": "2020-12-14T22:17:13.968308",
     "status": "completed"
    },
    "tags": []
   },
   "outputs": [],
   "source": [
    "features = [\n",
    "#   'user_id',\n",
    "#HDKIM    'timestamp',\n",
    "    'lagtime',\n",
    "    'lagtime_mean',\n",
    "   # 'content_id',\n",
    "   # 'task_container_id',\n",
    "    'user_lecture_cumsum', # X\n",
    "    'user_lecture_lv',\n",
    "    'prior_question_elapsed_time',\n",
    "    'delta_prior_question_elapsed_time',\n",
    "    'user_correctness',\n",
    "    'user_correct_cumcount', #X\n",
    "    'user_correct_cumsum', #X\n",
    "    'content_correctness',\n",
    "   # 'content_correctness_var',\n",
    "    'content_count',\n",
    "    'content_sum', #X\n",
    "    'task_container_correctness',\n",
    "   # 'task_container_var',\n",
    "   # 'task_container_sum',\n",
    "    'bundle_correctness',\n",
    "    'attempt_no',\n",
    "    'part',\n",
    "    'part_correctness_mean',\n",
    "   # 'part_correctness_var',\n",
    "    'tags1',\n",
    "    'tags1_correctness_mean',\n",
    "  #  'tags1_correctness_var',\n",
    "#HDKIM    'tags2',\n",
    "#HDKIM    'tags3',\n",
    "#HDKIM    'tags4',\n",
    "#HDKIM    'tags5',\n",
    "#HDKIM    'tags6',\n",
    "    'bundle_id',\n",
    "  #  'part_bundle_id',\n",
    "    'explanation_mean', \n",
    "    'explanation_cumsum',\n",
    "    'prior_question_had_explanation',\n",
    "#     'part_1',\n",
    "#     'part_2',\n",
    "#     'part_3',\n",
    "#     'part_4',\n",
    "#     'part_5',\n",
    "#     'part_6',\n",
    "#     'part_7',\n",
    "#     'type_of_concept',\n",
    "#     'type_of_intention',\n",
    "#     'type_of_solving_question',\n",
    "#     'type_of_starter'\n",
    "]\n",
    "categorical_columns= [\n",
    "#   'user_id',\n",
    "  #  'content_id',\n",
    "  # 'task_container_id',\n",
    "    'part',        \n",
    "    'tags1',\n",
    "#HDKIM    'tags2',\n",
    "#HDKIM    'tags3',\n",
    "#HDKIM    'tags4',\n",
    "#HDKIM    'tags5',\n",
    "#HDKIM    'tags6',\n",
    "    'bundle_id',\n",
    "   # 'part_bundle_id',\n",
    "    'prior_question_had_explanation',\n",
    "#     'part_1',\n",
    "#     'part_2',\n",
    "#     'part_3',\n",
    "#     'part_4',\n",
    "#     'part_5',\n",
    "#     'part_6',\n",
    "#     'part_7',\n",
    "#     'type_of_concept',\n",
    "#     'type_of_intention',\n",
    "#     'type_of_solving_question',\n",
    "#     'type_of_starter'\n",
    "]\n",
    "\n",
    "\n"
   ]
  },
  {
   "cell_type": "code",
   "execution_count": null,
   "metadata": {
    "execution": {
     "iopub.execute_input": "2020-12-14T22:17:14.226893Z",
     "iopub.status.busy": "2020-12-14T22:17:14.226027Z",
     "iopub.status.idle": "2020-12-14T22:17:58.482014Z",
     "shell.execute_reply": "2020-12-14T22:17:58.482695Z"
    },
    "papermill": {
     "duration": 44.350575,
     "end_time": "2020-12-14T22:17:58.482866",
     "exception": false,
     "start_time": "2020-12-14T22:17:14.132291",
     "status": "completed"
    },
    "tags": []
   },
   "outputs": [],
   "source": [
    "flag_lgbm=True\n",
    "clfs = list()\n",
    "params = {\n",
    "'num_leaves': 350,\n",
    "'max_bin':700,\n",
    "'min_child_weight': 0.03454472573214212,\n",
    "'feature_fraction': 0.58,\n",
    "'bagging_fraction': 0.58,\n",
    "#'min_data_in_leaf': 106,\n",
    "'objective': 'binary',\n",
    "'max_depth': -1,\n",
    "'learning_rate': 0.05,\n",
    "\"boosting_type\": \"gbdt\",\n",
    "\"bagging_seed\": 11,\n",
    "\"metric\": 'auc',\n",
    "\"verbosity\": -1,\n",
    "'reg_alpha': 0.3899927210061127,\n",
    "'reg_lambda': 0.6485237330340494,\n",
    "'random_state': 47\n",
    "}\n",
    "trains=list()\n",
    "valids=list()\n",
    "num=1\n",
    "for i in range(0,num):\n",
    "  \n",
    "    #train_df=train_df.reset_index(drop=True)\n",
    "    train_df_clf=train_df.sample(n=20000*1000)\n",
    "    print('sample end')\n",
    "    #train_df.drop(train_df_clf.index, inplace=True)\n",
    "    #print('train_df drop end')\n",
    "    \n",
    "   \n",
    "    del train_df\n",
    "    \n",
    "    users=train_df_clf['user_id'].drop_duplicates()#去重\n",
    "    \n",
    "    users=users.sample(frac=0.025)\n",
    "    users_df=pd.DataFrame()\n",
    "    users_df['user_id']=users.values\n",
    "  \n",
    "  \n",
    "    valid_df_newuser = pd.merge(train_df_clf, users_df, on=['user_id'], how='inner',right_index=True)\n",
    "    del users_df\n",
    "    del users\n",
    "    gc.collect()\n",
    "    #\n",
    "    train_df_clf.drop(valid_df_newuser.index, inplace=True)\n",
    "   \n",
    "    #-----------\n",
    "    #train_df_clf=train_df_clf.sample(frac=0.2)\n",
    "    #train_df_clf.drop(valid_df_newuser.index, inplace=True)\n",
    "    train_df_clf = pd.merge(train_df_clf, questions_df, on='content_id', how='left',right_index=True)#\n",
    "    valid_df_newuser = pd.merge(valid_df_newuser, questions_df, on='content_id', how='left',right_index=True)#\n",
    "    \n",
    "#     train_df_clf = pd.merge(train_df_clf, user_lecture_stats_part, on='user_id', how=\"left\",right_index=True)\n",
    "#     valid_df_newuser = pd.merge(valid_df_newuser, user_lecture_stats_part, on='user_id', how=\"left\",right_index=True)\n",
    "\n",
    "    valid_df=train_df_clf.sample(frac=0.09)\n",
    "    train_df_clf.drop(valid_df.index, inplace=True)\n",
    "   \n",
    "    valid_df = valid_df.append(valid_df_newuser)\n",
    "    del valid_df_newuser\n",
    "    gc.collect()\n",
    "    #\n",
    "\n",
    "    trains.append(train_df_clf)\n",
    "    valids.append(valid_df)\n",
    "    print('valid_df length：',len(valid_df))\n",
    "    #train_df=train_df.reset_index(drop=True)"
   ]
  },
  {
   "cell_type": "code",
   "execution_count": null,
   "metadata": {
    "execution": {
     "iopub.execute_input": "2020-12-14T22:17:58.716507Z",
     "iopub.status.busy": "2020-12-14T22:17:58.715415Z",
     "iopub.status.idle": "2020-12-14T22:17:58.720251Z",
     "shell.execute_reply": "2020-12-14T22:17:58.719514Z"
    },
    "papermill": {
     "duration": 0.162873,
     "end_time": "2020-12-14T22:17:58.720407",
     "exception": false,
     "start_time": "2020-12-14T22:17:58.557534",
     "status": "completed"
    },
    "tags": []
   },
   "outputs": [],
   "source": [
    "#del train_df\n",
    "del train_df_clf\n",
    "del valid_df\n",
    "gc.collect()"
   ]
  },
  {
   "cell_type": "code",
   "execution_count": null,
   "metadata": {
    "execution": {
     "iopub.execute_input": "2020-12-14T22:17:59.08028Z",
     "iopub.status.busy": "2020-12-14T22:17:59.079408Z",
     "iopub.status.idle": "2020-12-14T23:18:07.045118Z",
     "shell.execute_reply": "2020-12-14T23:18:07.045982Z"
    },
    "papermill": {
     "duration": 3608.250434,
     "end_time": "2020-12-14T23:18:07.046659",
     "exception": false,
     "start_time": "2020-12-14T22:17:58.796225",
     "status": "completed"
    },
    "tags": []
   },
   "outputs": [],
   "source": [
    "\n",
    "for i in range(0,num):\n",
    "\n",
    "#     \n",
    "    tr_data = lgb.Dataset(trains[i][features], label=trains[i][target])\n",
    "    va_data = lgb.Dataset(valids[i][features], label=valids[i][target])\n",
    "    \n",
    "#     del train_df_clf\n",
    "#     del valid_df\n",
    "#     gc.collect()\n",
    "    del trains\n",
    "    del valids\n",
    "    gc.collect()\n",
    "\n",
    "    model = lgb.train(\n",
    "        params, \n",
    "        tr_data,\n",
    "#         train_df[features],\n",
    "#         train_df[target],\n",
    "        num_boost_round=5000,\n",
    "        #valid_sets=[(train_df[features],train_df[target]), (valid_df[features],valid_df[target])], \n",
    "        valid_sets=[tr_data, va_data],\n",
    "        early_stopping_rounds=50,\n",
    "        feature_name=features,\n",
    "        categorical_feature=categorical_columns,\n",
    "        verbose_eval=50\n",
    "    )\n",
    "    clfs.append(model)\n",
    "    #print('auc:', roc_auc_score(valid_df[target], model.predict(valid_df[features])))\n",
    "    #model.save_model(f'model.txt')\n",
    "    lgb.plot_importance(model, importance_type='gain')\n",
    "    plt.show()\n",
    "\n",
    "    del tr_data\n",
    "    del va_data\n",
    "    gc.collect()\n",
    "#    \n",
    "# del trains\n",
    "# del valids\n",
    "# gc.collect()"
   ]
  },
  {
   "cell_type": "markdown",
   "metadata": {
    "papermill": {
     "duration": 0.084916,
     "end_time": "2020-12-14T23:18:07.216196",
     "exception": false,
     "start_time": "2020-12-14T23:18:07.13128",
     "status": "completed"
    },
    "tags": []
   },
   "source": [
    "# Inference"
   ]
  },
  {
   "cell_type": "code",
   "execution_count": null,
   "metadata": {
    "execution": {
     "iopub.execute_input": "2020-12-14T23:18:07.399794Z",
     "iopub.status.busy": "2020-12-14T23:18:07.394147Z",
     "iopub.status.idle": "2020-12-14T23:18:08.629625Z",
     "shell.execute_reply": "2020-12-14T23:18:08.628805Z"
    },
    "papermill": {
     "duration": 1.329476,
     "end_time": "2020-12-14T23:18:08.629765",
     "exception": false,
     "start_time": "2020-12-14T23:18:07.300289",
     "status": "completed"
    },
    "tags": []
   },
   "outputs": [],
   "source": [
    "user_sum_dict = user_agg['sum'].astype('int16').to_dict(defaultdict(int))\n",
    "user_count_dict = user_agg['count'].astype('int16').to_dict(defaultdict(int))\n",
    "content_sum_dict = content_agg['sum'].astype('int32').to_dict(defaultdict(int))\n",
    "content_count_dict = content_agg['count'].astype('int32').to_dict(defaultdict(int))\n",
    "\n",
    "del user_agg\n",
    "del content_agg\n",
    "gc.collect()\n",
    "\n",
    "task_container_sum_dict = task_container_agg['sum'].astype('int32').to_dict(defaultdict(int))\n",
    "task_container_count_dict = task_container_agg['count'].astype('int32').to_dict(defaultdict(int))\n",
    "task_container_var_dict = task_container_agg['var'].astype('float16').to_dict(defaultdict(int)) ###std to var\n",
    "\n",
    "explanation_sum_dict = explanation_agg['sum'].astype('int16').to_dict(defaultdict(int))\n",
    "explanation_count_dict = explanation_agg['count'].astype('int16').to_dict(defaultdict(int))\n",
    "del task_container_agg\n",
    "del explanation_agg\n",
    "gc.collect()"
   ]
  },
  {
   "cell_type": "code",
   "execution_count": null,
   "metadata": {
    "execution": {
     "iopub.execute_input": "2020-12-14T23:18:08.853976Z",
     "iopub.status.busy": "2020-12-14T23:18:08.852673Z",
     "iopub.status.idle": "2020-12-14T23:18:09.755327Z",
     "shell.execute_reply": "2020-12-14T23:18:09.754365Z"
    },
    "papermill": {
     "duration": 1.029558,
     "end_time": "2020-12-14T23:18:09.755493",
     "exception": false,
     "start_time": "2020-12-14T23:18:08.725935",
     "status": "completed"
    },
    "tags": []
   },
   "outputs": [],
   "source": [
    "user_lecture_sum_dict = user_lecture_agg['sum'].astype('int16').to_dict(defaultdict(int))\n",
    "user_lecture_count_dict = user_lecture_agg['count'].astype('int16').to_dict(defaultdict(int))\n",
    "\n",
    "lagtime_mean_dict = lagtime_agg['mean'].astype('int32').to_dict(defaultdict(int))\n",
    "#del prior_question_elapsed_time_agg\n",
    "del user_lecture_agg\n",
    "del lagtime_agg\n",
    "gc.collect()"
   ]
  },
  {
   "cell_type": "code",
   "execution_count": null,
   "metadata": {},
   "outputs": [],
   "source": [
    "attempt_no_agg=attempt_no_agg[attempt_no_agg >1]"
   ]
  },
  {
   "cell_type": "code",
   "execution_count": null,
   "metadata": {},
   "outputs": [],
   "source": [
    "# attempt_no_agg"
   ]
  },
  {
   "cell_type": "code",
   "execution_count": null,
   "metadata": {
    "execution": {
     "iopub.execute_input": "2020-12-14T23:18:09.942081Z",
     "iopub.status.busy": "2020-12-14T23:18:09.941129Z",
     "iopub.status.idle": "2020-12-14T23:18:27.479587Z",
     "shell.execute_reply": "2020-12-14T23:18:27.478753Z"
    },
    "papermill": {
     "duration": 17.63684,
     "end_time": "2020-12-14T23:18:27.479727",
     "exception": false,
     "start_time": "2020-12-14T23:18:09.842887",
     "status": "completed"
    },
    "tags": []
   },
   "outputs": [],
   "source": [
    "# attempt_no_agg=attempt_no_agg[attempt_no_agg >1]\n",
    "attempt_no_sum_dict = attempt_no_agg.to_dict(defaultdict(int))\n",
    "# attempt_no_agg=attempt_no_agg[attempt_no_agg['sum'] >1]\n",
    "# attempt_no_sum_dict = attempt_no_agg['sum'].to_dict(defaultdict(int))\n",
    "\n",
    "del attempt_no_agg\n",
    "gc.collect()"
   ]
  },
  {
   "cell_type": "code",
   "execution_count": null,
   "metadata": {},
   "outputs": [],
   "source": [
    "# attempt_no_sum_dict"
   ]
  },
  {
   "cell_type": "code",
   "execution_count": null,
   "metadata": {
    "execution": {
     "iopub.execute_input": "2020-12-14T23:18:27.658414Z",
     "iopub.status.busy": "2020-12-14T23:18:27.657217Z",
     "iopub.status.idle": "2020-12-14T23:18:28.485366Z",
     "shell.execute_reply": "2020-12-14T23:18:28.484614Z"
    },
    "papermill": {
     "duration": 0.919729,
     "end_time": "2020-12-14T23:18:28.485513",
     "exception": false,
     "start_time": "2020-12-14T23:18:27.565784",
     "status": "completed"
    },
    "tags": []
   },
   "outputs": [],
   "source": [
    "max_timestamp_u_dict=max_timestamp_u.set_index('user_id').to_dict()\n",
    "user_prior_question_elapsed_time_dict=user_prior_question_elapsed_time.set_index('user_id').to_dict()\n",
    "#del question_elapsed_time_agg\n",
    "del max_timestamp_u\n",
    "del user_prior_question_elapsed_time\n",
    "gc.collect()"
   ]
  },
  {
   "cell_type": "code",
   "execution_count": null,
   "metadata": {
    "execution": {
     "iopub.execute_input": "2020-12-14T23:18:28.661831Z",
     "iopub.status.busy": "2020-12-14T23:18:28.660958Z",
     "iopub.status.idle": "2020-12-14T23:18:28.665944Z",
     "shell.execute_reply": "2020-12-14T23:18:28.665181Z"
    },
    "papermill": {
     "duration": 0.095201,
     "end_time": "2020-12-14T23:18:28.666074",
     "exception": false,
     "start_time": "2020-12-14T23:18:28.570873",
     "status": "completed"
    },
    "tags": []
   },
   "outputs": [],
   "source": [
    "len(max_timestamp_u_dict['max_time_stamp'])"
   ]
  },
  {
   "cell_type": "code",
   "execution_count": null,
   "metadata": {
    "execution": {
     "iopub.execute_input": "2020-12-14T23:18:28.850254Z",
     "iopub.status.busy": "2020-12-14T23:18:28.849112Z",
     "iopub.status.idle": "2020-12-14T23:18:28.852867Z",
     "shell.execute_reply": "2020-12-14T23:18:28.852125Z"
    },
    "papermill": {
     "duration": 0.097785,
     "end_time": "2020-12-14T23:18:28.852995",
     "exception": false,
     "start_time": "2020-12-14T23:18:28.75521",
     "status": "completed"
    },
    "tags": []
   },
   "outputs": [],
   "source": [
    "def get_max_attempt(user_id,content_id):\n",
    "    k = (user_id,content_id)\n",
    "\n",
    "    if k in attempt_no_sum_dict.keys():\n",
    "        attempt_no_sum_dict[k]+=1\n",
    "        return attempt_no_sum_dict[k]\n",
    "\n",
    "    attempt_no_sum_dict[k] = 1\n",
    "    return attempt_no_sum_dict[k]"
   ]
  },
  {
   "cell_type": "code",
   "execution_count": null,
   "metadata": {
    "execution": {
     "iopub.execute_input": "2020-12-14T23:18:29.035676Z",
     "iopub.status.busy": "2020-12-14T23:18:29.034788Z",
     "iopub.status.idle": "2020-12-14T23:18:29.040193Z",
     "shell.execute_reply": "2020-12-14T23:18:29.039428Z"
    },
    "papermill": {
     "duration": 0.099683,
     "end_time": "2020-12-14T23:18:29.040325",
     "exception": false,
     "start_time": "2020-12-14T23:18:28.940642",
     "status": "completed"
    },
    "tags": []
   },
   "outputs": [],
   "source": [
    "print(psutil.virtual_memory().percent)"
   ]
  },
  {
   "cell_type": "markdown",
   "metadata": {
    "papermill": {
     "duration": 0.09523,
     "end_time": "2020-12-14T23:18:29.237949",
     "exception": false,
     "start_time": "2020-12-14T23:18:29.142719",
     "status": "completed"
    },
    "tags": []
   },
   "source": [
    "# SAKT Part II"
   ]
  },
  {
   "cell_type": "code",
   "execution_count": null,
   "metadata": {
    "execution": {
     "iopub.execute_input": "2020-12-14T23:18:29.459513Z",
     "iopub.status.busy": "2020-12-14T23:18:29.43339Z",
     "iopub.status.idle": "2020-12-14T23:18:34.371848Z",
     "shell.execute_reply": "2020-12-14T23:18:34.372782Z"
    },
    "papermill": {
     "duration": 5.044192,
     "end_time": "2020-12-14T23:18:34.37302",
     "exception": false,
     "start_time": "2020-12-14T23:18:29.328828",
     "status": "completed"
    },
    "tags": []
   },
   "outputs": [],
   "source": [
    "#HDKIM SAKT\n",
    "import torch\n",
    "import torch.nn as nn\n",
    "from torch.utils.data import Dataset, DataLoader\n",
    "\n",
    "class FFN(nn.Module):\n",
    "    def __init__(self, state_size=200):\n",
    "        super(FFN, self).__init__()\n",
    "        self.state_size = state_size\n",
    "\n",
    "        self.lr1 = nn.Linear(state_size, state_size)\n",
    "        self.relu = nn.ReLU()\n",
    "        self.lr2 = nn.Linear(state_size, state_size)\n",
    "        self.dropout = nn.Dropout(0.2)\n",
    "    \n",
    "    def forward(self, x):\n",
    "        x = self.lr1(x)\n",
    "        x = self.relu(x)\n",
    "        x = self.lr2(x)\n",
    "        return self.dropout(x)\n",
    "\n",
    "def future_mask(seq_length):\n",
    "    future_mask = np.triu(np.ones((seq_length, seq_length)), k=1).astype('bool')\n",
    "    return torch.from_numpy(future_mask)\n",
    "\n",
    "class SAKTModel(nn.Module):\n",
    "    def __init__(self, n_skill, max_seq=MAX_SEQ, embed_dim=128): #HDKIM 100\n",
    "        super(SAKTModel, self).__init__()\n",
    "        self.n_skill = n_skill\n",
    "        self.embed_dim = embed_dim\n",
    "\n",
    "        self.embedding = nn.Embedding(2*n_skill+1, embed_dim)\n",
    "        self.pos_embedding = nn.Embedding(max_seq-1, embed_dim)\n",
    "        self.e_embedding = nn.Embedding(n_skill+1, embed_dim)\n",
    "\n",
    "        self.multi_att = nn.MultiheadAttention(embed_dim=embed_dim, num_heads=8, dropout=0.2)\n",
    "\n",
    "        self.dropout = nn.Dropout(0.2)\n",
    "        self.layer_normal = nn.LayerNorm(embed_dim) \n",
    "\n",
    "        self.ffn = FFN(embed_dim)\n",
    "        self.pred = nn.Linear(embed_dim, 1)\n",
    "    \n",
    "    def forward(self, x, question_ids):\n",
    "        device = x.device        \n",
    "        x = self.embedding(x)\n",
    "        pos_id = torch.arange(x.size(1)).unsqueeze(0).to(device)\n",
    "\n",
    "        pos_x = self.pos_embedding(pos_id)\n",
    "        x = x + pos_x\n",
    "\n",
    "        e = self.e_embedding(question_ids)\n",
    "\n",
    "        x = x.permute(1, 0, 2) # x: [bs, s_len, embed] => [s_len, bs, embed]\n",
    "        e = e.permute(1, 0, 2)\n",
    "        att_mask = future_mask(x.size(0)).to(device)\n",
    "        att_output, att_weight = self.multi_att(e, x, x, attn_mask=att_mask)\n",
    "        att_output = self.layer_normal(att_output + e)\n",
    "        att_output = att_output.permute(1, 0, 2) # att_output: [s_len, bs, embed] => [bs, s_len, embed]\n",
    "\n",
    "        x = self.ffn(att_output)\n",
    "        x = self.layer_normal(x + att_output)\n",
    "        x = self.pred(x)\n",
    "\n",
    "        return x.squeeze(-1), att_weight\n",
    "    \n",
    "class TestDataset(Dataset):\n",
    "    def __init__(self, samples, test_df, skills, max_seq=MAX_SEQ): #HDKIM 100\n",
    "        super(TestDataset, self).__init__()\n",
    "        self.samples = samples\n",
    "        self.user_ids = [x for x in test_df[\"user_id\"].unique()]\n",
    "        self.test_df = test_df\n",
    "        self.skills = skills\n",
    "        self.n_skill = len(skills)\n",
    "        self.max_seq = max_seq\n",
    "\n",
    "    def __len__(self):\n",
    "        return self.test_df.shape[0]\n",
    "\n",
    "    def __getitem__(self, index):\n",
    "        test_info = self.test_df.iloc[index]\n",
    "\n",
    "        user_id = test_info[\"user_id\"]\n",
    "        target_id = test_info[\"content_id\"]\n",
    "\n",
    "        q = np.zeros(self.max_seq, dtype=int)\n",
    "        qa = np.zeros(self.max_seq, dtype=int)\n",
    "\n",
    "        if user_id in self.samples.index:\n",
    "            q_, qa_ = self.samples[user_id]\n",
    "            \n",
    "            seq_len = len(q_)\n",
    "\n",
    "            if seq_len >= self.max_seq:\n",
    "                q = q_[-self.max_seq:]\n",
    "                qa = qa_[-self.max_seq:]\n",
    "            else:\n",
    "                q[-seq_len:] = q_\n",
    "                qa[-seq_len:] = qa_          \n",
    "        \n",
    "        x = np.zeros(self.max_seq-1, dtype=int)\n",
    "        x = q[1:].copy()\n",
    "        x += (qa[1:] == 1) * self.n_skill\n",
    "        \n",
    "        questions = np.append(q[2:], [target_id])\n",
    "        \n",
    "        return x, questions\n",
    "\n",
    "device = torch.device(\"cuda\" if torch.cuda.is_available() else \"cpu\")\n",
    "SAKT_model = SAKTModel(n_skill, embed_dim=128)\n",
    "\n",
    "try:\n",
    "    SAKT_model.load_state_dict(torch.load(\"../input/sakt-with-randomization-state-updates/SAKT-HDKIM.pt\"))\n",
    "except:\n",
    "    SAKT_model.load_state_dict(torch.load(\"../input/sakt-with-randomization-state-updates/SAKT-HDKIM.pt\", map_location='cpu'))\n",
    "\n",
    "SAKT_model.to(device)\n",
    "SAKT_model.eval()\n",
    "\n",
    "import pickle\n",
    "group = pickle.load(open(\"group.pkl\", \"rb\"))\n",
    "\n",
    "print(psutil.virtual_memory().percent)\n",
    "\n",
    "#HDKIMHDKIM"
   ]
  },
  {
   "cell_type": "code",
   "execution_count": null,
   "metadata": {
    "execution": {
     "iopub.execute_input": "2020-12-14T23:18:34.560812Z",
     "iopub.status.busy": "2020-12-14T23:18:34.559494Z",
     "iopub.status.idle": "2020-12-14T23:18:34.563287Z",
     "shell.execute_reply": "2020-12-14T23:18:34.562602Z"
    },
    "papermill": {
     "duration": 0.098766,
     "end_time": "2020-12-14T23:18:34.563445",
     "exception": false,
     "start_time": "2020-12-14T23:18:34.464679",
     "status": "completed"
    },
    "tags": []
   },
   "outputs": [],
   "source": [
    "# model = lgb.Booster(model_file='../input/riiid-lgbm-starter/model.txt')\n",
    "env = riiideducation.make_env()"
   ]
  },
  {
   "cell_type": "code",
   "execution_count": null,
   "metadata": {
    "execution": {
     "iopub.execute_input": "2020-12-14T23:18:34.749888Z",
     "iopub.status.busy": "2020-12-14T23:18:34.748814Z",
     "iopub.status.idle": "2020-12-14T23:18:34.752817Z",
     "shell.execute_reply": "2020-12-14T23:18:34.752194Z"
    },
    "papermill": {
     "duration": 0.099314,
     "end_time": "2020-12-14T23:18:34.752949",
     "exception": false,
     "start_time": "2020-12-14T23:18:34.653635",
     "status": "completed"
    },
    "tags": []
   },
   "outputs": [],
   "source": [
    "iter_test = env.iter_test()\n",
    "prior_test_df = None"
   ]
  },
  {
   "cell_type": "code",
   "execution_count": null,
   "metadata": {
    "execution": {
     "iopub.execute_input": "2020-12-14T23:18:35.110222Z",
     "iopub.status.busy": "2020-12-14T23:18:35.093715Z",
     "iopub.status.idle": "2020-12-14T23:18:36.28186Z",
     "shell.execute_reply": "2020-12-14T23:18:36.281042Z"
    },
    "papermill": {
     "duration": 1.306481,
     "end_time": "2020-12-14T23:18:36.282007",
     "exception": false,
     "start_time": "2020-12-14T23:18:34.975526",
     "status": "completed"
    },
    "tags": []
   },
   "outputs": [],
   "source": [
    "%%time\n",
    "\n",
    "for (test_df, sample_prediction_df) in iter_test:    \n",
    "    if (prior_test_df is not None) & (psutil.virtual_memory().percent<90):\n",
    "        print(psutil.virtual_memory().percent)\n",
    "        prior_test_df[target] = eval(test_df['prior_group_answers_correct'].iloc[0])\n",
    "        prior_test_df = prior_test_df[prior_test_df[target] != -1].reset_index(drop=True)       \n",
    "        prior_test_df['prior_question_had_explanation'].fillna(False, inplace=True)       \n",
    "        prior_test_df.prior_question_had_explanation=prior_test_df.prior_question_had_explanation.astype('int8')\n",
    "        \n",
    "        #HDKIM SAKT State Update\n",
    "        prev_group = prior_test_df[['user_id', 'content_id', 'answered_correctly']].groupby('user_id').apply(lambda r: (\n",
    "            r['content_id'].values,\n",
    "            r['answered_correctly'].values))\n",
    "        for prev_user_id in prev_group.index:\n",
    "            prev_group_content = prev_group[prev_user_id][0]\n",
    "            prev_group_ac = prev_group[prev_user_id][1]\n",
    "            if prev_user_id in group.index:\n",
    "                group[prev_user_id] = (np.append(group[prev_user_id][0],prev_group_content), \n",
    "                                       np.append(group[prev_user_id][1],prev_group_ac))\n",
    "            else:\n",
    "                group[prev_user_id] = (prev_group_content,prev_group_ac)\n",
    "            if len(group[prev_user_id][0])>MAX_SEQ:\n",
    "                new_group_content = group[prev_user_id][0][-MAX_SEQ:]\n",
    "                new_group_ac = group[prev_user_id][1][-MAX_SEQ:]\n",
    "                group[prev_user_id] = (new_group_content,new_group_ac)\n",
    "\n",
    "        #HDKIMHDKIM\n",
    "    \n",
    "        user_ids = prior_test_df['user_id'].values\n",
    "        content_ids = prior_test_df['content_id'].values\n",
    "        task_container_ids = prior_test_df['task_container_id'].values\n",
    "        prior_question_had_explanations = prior_test_df['prior_question_had_explanation'].values\n",
    "        targets = prior_test_df[target].values\n",
    "       \n",
    "        for user_id, content_id,prior_question_had_explanation,task_container_id,answered_correctly in zip(user_ids, content_ids, prior_question_had_explanations,task_container_ids,targets):\n",
    "            user_sum_dict[user_id] += answered_correctly\n",
    "            user_count_dict[user_id] += 1         \n",
    "            explanation_sum_dict[user_id] += prior_question_had_explanation\n",
    "            explanation_count_dict[user_id] += 1\n",
    "            \n",
    "\n",
    "    prior_test_df = test_df.copy()\n",
    "    lecture_test_df = test_df[test_df['content_type_id'] == 1].reset_index(drop=True)\n",
    "    \n",
    "    for i, (user_id,content_type_id, content_id) in enumerate(zip(lecture_test_df['user_id'].values,lecture_test_df['content_type_id'].values,lecture_test_df['content_id'].values)):\n",
    "      \n",
    "        user_lecture_sum_dict[user_id] += content_type_id\n",
    "        user_lecture_count_dict[user_id] += 1\n",
    "        #\n",
    "        if(len(user_lecture_stats_part[user_lecture_stats_part.user_id==user_id])==0):\n",
    "            user_lecture_stats_part = user_lecture_stats_part.append([{'user_id':user_id}], ignore_index=True)\n",
    "            user_lecture_stats_part.fillna(0, inplace=True)\n",
    "            user_lecture_stats_part.loc[user_lecture_stats_part.user_id==user_id,part_lectures_columns + types_of_lectures_columns]+=lectures_df[lectures_df.lecture_id==content_id][part_lectures_columns + types_of_lectures_columns].values\n",
    "        else:\n",
    "            user_lecture_stats_part.loc[user_lecture_stats_part.user_id==user_id,part_lectures_columns + types_of_lectures_columns]+=lectures_df[lectures_df.lecture_id==content_id][part_lectures_columns + types_of_lectures_columns].values\n",
    "  \n",
    "        \n",
    "    test_df = test_df[test_df['content_type_id'] == 0].reset_index(drop=True)\n",
    "   \n",
    "    #HDKIM SAKT\n",
    "    test_dataset = TestDataset(group, test_df, skills)\n",
    "    test_dataloader = DataLoader(test_dataset, batch_size=51200, shuffle=False)\n",
    "    \n",
    "    SAKT_outs = []\n",
    "\n",
    "    for item in test_dataloader:\n",
    "        x = item[0].to(device).long()\n",
    "        target_id = item[1].to(device).long()\n",
    "\n",
    "        with torch.no_grad():\n",
    "            output, att_weight = SAKT_model(x, target_id)\n",
    " \n",
    "        output = torch.sigmoid(output)\n",
    "        output = output[:, -1]\n",
    "        SAKT_outs.extend(output.view(-1).data.cpu().numpy())\n",
    "    \n",
    "    #HDKIMHDKIM\n",
    "\n",
    "    test_df['prior_question_had_explanation'].fillna(False, inplace=True)\n",
    "    test_df.prior_question_had_explanation=test_df.prior_question_had_explanation.astype('int8')\n",
    "    test_df['prior_question_elapsed_time'].fillna(prior_question_elapsed_time_mean, inplace=True)\n",
    "    \n",
    "\n",
    "    user_lecture_sum = np.zeros(len(test_df), dtype=np.int16)\n",
    "    user_lecture_count = np.zeros(len(test_df), dtype=np.int16) \n",
    "    \n",
    "    user_sum = np.zeros(len(test_df), dtype=np.int16)\n",
    "    user_count = np.zeros(len(test_df), dtype=np.int16)\n",
    "    content_sum = np.zeros(len(test_df), dtype=np.int32)\n",
    "    content_count = np.zeros(len(test_df), dtype=np.int32)\n",
    "    task_container_sum = np.zeros(len(test_df), dtype=np.int32)\n",
    "    task_container_count = np.zeros(len(test_df), dtype=np.int32)\n",
    "    task_container_var = np.zeros(len(test_df), dtype=np.float16) ###std to var\n",
    "    content_task_mean = np.zeros(len(test_df), dtype=np.float16)\n",
    "    explanation_sum = np.zeros(len(test_df), dtype=np.int32)\n",
    "    explanation_count = np.zeros(len(test_df), dtype=np.int32)\n",
    "    delta_prior_question_elapsed_time = np.zeros(len(test_df), dtype=np.int32)\n",
    "\n",
    "    attempt_no_count = np.zeros(len(test_df), dtype=np.int16)\n",
    "    lagtime = np.zeros(len(test_df), dtype=np.int32)\n",
    "    lagtime_mean = np.zeros(len(test_df), dtype=np.int32)\n",
    "   \n",
    "    \n",
    "    for i, (user_id,prior_question_had_explanation,content_type_id,prior_question_elapsed_time,timestamp, content_id,task_container_id) in enumerate(zip(test_df['user_id'].values,test_df['prior_question_had_explanation'].values,test_df['content_type_id'].values,test_df['prior_question_elapsed_time'].values,test_df['timestamp'].values, test_df['content_id'].values, test_df['task_container_id'].values)):\n",
    "         \n",
    "        user_lecture_sum_dict[user_id] += content_type_id\n",
    "        user_lecture_count_dict[user_id] += 1\n",
    "        \n",
    "        user_lecture_sum[i] = user_lecture_sum_dict[user_id]\n",
    "        user_lecture_count[i] = user_lecture_count_dict[user_id]\n",
    "        \n",
    "        user_sum[i] = user_sum_dict[user_id]\n",
    "        user_count[i] = user_count_dict[user_id]\n",
    "        content_sum[i] = content_sum_dict[content_id]\n",
    "        content_count[i] = content_count_dict[content_id]\n",
    "        task_container_sum[i] = task_container_sum_dict[task_container_id]\n",
    "        task_container_count[i] = task_container_count_dict[task_container_id]\n",
    "        task_container_var[i]=task_container_var_dict[task_container_id] ###std to var\n",
    "      \n",
    "        explanation_sum[i] = explanation_sum_dict[user_id]\n",
    "        explanation_count[i] = explanation_count_dict[user_id]\n",
    "  \n",
    "        if user_id in max_timestamp_u_dict['max_time_stamp'].keys():\n",
    "            lagtime[i]=timestamp-max_timestamp_u_dict['max_time_stamp'][user_id]\n",
    "            max_timestamp_u_dict['max_time_stamp'][user_id]=timestamp\n",
    "            lagtime_mean[i]=(lagtime_mean_dict[user_id]+lagtime[i])/2           \n",
    "        else:\n",
    "            lagtime[i]=0\n",
    "            max_timestamp_u_dict['max_time_stamp'].update({user_id:timestamp})\n",
    "            lagtime_mean_dict.update({user_id:timestamp})\n",
    "            lagtime_mean[i]=(lagtime_mean_dict[user_id]+lagtime[i])/2\n",
    "            \n",
    "        if user_id in user_prior_question_elapsed_time_dict['prior_question_elapsed_time'].keys():            \n",
    "            delta_prior_question_elapsed_time[i]=prior_question_elapsed_time-user_prior_question_elapsed_time_dict['prior_question_elapsed_time'][user_id]\n",
    "            user_prior_question_elapsed_time_dict['prior_question_elapsed_time'][user_id]=prior_question_elapsed_time\n",
    "        else:           \n",
    "            delta_prior_question_elapsed_time[i]=0    \n",
    "            user_prior_question_elapsed_time_dict['prior_question_elapsed_time'].update({user_id:prior_question_elapsed_time})\n",
    "           \n",
    "        \n",
    "        \n",
    "    \n",
    "    #\n",
    "    #test_df = pd.merge(test_df, questions_df, on='content_id', how='left',right_index=True)    \n",
    "    #test_df = pd.concat([test_df.reset_index(drop=True), questions_df.reindex(test_df['content_id'].values).reset_index(drop=True)], axis=1)\n",
    "    test_df=test_df.merge(questions_df.loc[questions_df.index.isin(test_df['content_id'])],\n",
    "                  how='left', on='content_id', right_index=True)\n",
    "    \n",
    "    #test_df = pd.merge(test_df, user_lecture_stats_part, on=['user_id'], how=\"left\",right_index=True)\n",
    "    #test_df = pd.concat([test_df.reset_index(drop=True), user_lecture_stats_part.reindex(test_df['user_id'].values).reset_index(drop=True)], axis=1)\n",
    "#     test_df=test_df.merge(user_lecture_stats_part.loc[user_lecture_stats_part.index.isin(test_df['user_id'])],\n",
    "#                   how='left', on='user_id', right_index=True)\n",
    " \n",
    "    test_df['user_lecture_lv'] = user_lecture_sum / user_lecture_count\n",
    "    test_df['user_lecture_cumsum'] = user_lecture_sum\n",
    "    test_df['user_correctness'] = user_sum / user_count\n",
    "    test_df['user_correct_cumcount'] =user_count\n",
    "    test_df['user_correct_cumsum'] =user_sum\n",
    "    #\n",
    "    test_df['content_correctness'] = content_sum / content_count\n",
    "    test_df['content_count'] = content_count\n",
    "    test_df['content_sum'] = content_sum\n",
    "    \n",
    "    test_df['task_container_correctness'] = task_container_sum / task_container_count\n",
    "    test_df['task_container_sum'] = task_container_sum \n",
    "    test_df['task_container_var'] = task_container_var ####原来是std\n",
    "    #test_df['content_task_mean'] = content_task_mean \n",
    "    \n",
    "    test_df['explanation_mean'] = explanation_sum / explanation_count\n",
    "    test_df['explanation_cumsum'] = explanation_sum \n",
    "    \n",
    "    #\n",
    "    test_df['delta_prior_question_elapsed_time'] = delta_prior_question_elapsed_time \n",
    "    \n",
    "  \n",
    " \n",
    "    test_df[\"attempt_no\"] = test_df[[\"user_id\", \"content_id\"]].apply(lambda row: get_max_attempt(row[\"user_id\"], row[\"content_id\"]), axis=1)\n",
    "    test_df[\"lagtime\"]=lagtime\n",
    "    test_df[\"lagtime_mean\"]=lagtime_mean\n",
    "\n",
    "    test_df['user_correctness'].fillna( 0.6, inplace=True)\n",
    "    test_df['attempt_no'].fillna(1, inplace=True)\n",
    "    #\n",
    "    test_df.fillna(0, inplace=True)\n",
    "    \n",
    "\n",
    "    test_df['timestamp']=test_df['timestamp']/(1000*3600)\n",
    "    test_df.timestamp=test_df.timestamp.astype('int16')\n",
    "\n",
    "\n",
    "    sub_preds = np.zeros(test_df.shape[0])\n",
    "    for i, model in enumerate(clfs, 1):\n",
    "        test_preds  = model.predict(test_df[features])\n",
    "        sub_preds += test_preds\n",
    "    #HDKIM\n",
    "    #test_df[target] = sub_preds / len(clfs) #HDKIM\n",
    "    \n",
    "    lgbm_final = sub_preds / len(clfs)   \n",
    "    test_df[target] = np.array(SAKT_outs) * 0.5 + lgbm_final * 0.5\n",
    "    #HDKIMHDKIM\n",
    "\n",
    "    env.predict(test_df[['row_id', target]])"
   ]
  }
 ],
 "metadata": {
  "kernelspec": {
   "display_name": "Python 3",
   "language": "python",
   "name": "python3"
  },
  "language_info": {
   "codemirror_mode": {
    "name": "ipython",
    "version": 3
   },
   "file_extension": ".py",
   "mimetype": "text/x-python",
   "name": "python",
   "nbconvert_exporter": "python",
   "pygments_lexer": "ipython3",
   "version": "3.8.5"
  }
 },
 "nbformat": 4,
 "nbformat_minor": 4
}
